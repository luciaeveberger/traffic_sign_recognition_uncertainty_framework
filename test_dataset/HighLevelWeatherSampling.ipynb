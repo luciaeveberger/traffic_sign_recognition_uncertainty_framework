{
 "cells": [
  {
   "cell_type": "markdown",
   "metadata": {},
   "source": [
    "# Weather Sampling\n",
    "\n",
    "\n",
    "### Temperature: \n",
    "### Input: \n",
    "compiled weather data (regionally) \n",
    "ftp://opendata.dwd.de/climate_environment/CDC/regional_averages_DE/monthly/\n",
    "\n",
    "### Output: \n",
    "PDF: per month sample of average temperature\n",
    "sampling technique {given point, what is the probability of getting it}\n",
    "\n",
    "\n",
    "http://www.pyrunner.com/weblog/2015/12/08/basic-statistics-and-timeseries-pandas/\n",
    "\n"
   ]
  },
  {
   "cell_type": "code",
   "execution_count": 3,
   "metadata": {},
   "outputs": [],
   "source": [
    "import pandas as pd\n",
    "import numpy as np\n",
    "import os\n",
    "from os.path import dirname\n",
    "import matplotlib.pyplot as plt\n",
    "import seaborn as sns\n",
    "\n",
    "from scipy import spatial\n",
    "\n",
    "\n",
    "hourly_precip_lookup = [\"/test_dataset/weather_data/hourly/precipitation/recent/\", \"hourly_precip_compiled.csv\"]\n",
    "hourly_air_lookup =  [\"/test_dataset/weather_data/hourly/air_temperature/recent/\", \"hourly_air_temp_compiled.csv\"]\n",
    "\n",
    "# absolute directory\n",
    "d = os.path.dirname(os.getcwd())\n",
    "\n",
    "# relative directory\n",
    "file_path = \"/test_dataset/data/generated_data1.csv\"\n"
   ]
  },
  {
   "cell_type": "code",
   "execution_count": 2,
   "metadata": {},
   "outputs": [
    {
     "data": {
      "text/html": [
       "<div>\n",
       "<style scoped>\n",
       "    .dataframe tbody tr th:only-of-type {\n",
       "        vertical-align: middle;\n",
       "    }\n",
       "\n",
       "    .dataframe tbody tr th {\n",
       "        vertical-align: top;\n",
       "    }\n",
       "\n",
       "    .dataframe thead th {\n",
       "        text-align: right;\n",
       "    }\n",
       "</style>\n",
       "<table border=\"1\" class=\"dataframe\">\n",
       "  <thead>\n",
       "    <tr style=\"text-align: right;\">\n",
       "      <th></th>\n",
       "      <th>Unnamed: 0</th>\n",
       "      <th>Unnamed: 0.1</th>\n",
       "      <th>Unnamed: 0.1.1</th>\n",
       "      <th>Unnamed: 0.1.1.1</th>\n",
       "      <th>Filename</th>\n",
       "      <th>Width</th>\n",
       "      <th>Height</th>\n",
       "      <th>Roi.X1</th>\n",
       "      <th>Roi.Y1</th>\n",
       "      <th>Roi.X2</th>\n",
       "      <th>...</th>\n",
       "      <th>Coordinates</th>\n",
       "      <th>formattedTime</th>\n",
       "      <th>month</th>\n",
       "      <th>Temperature</th>\n",
       "      <th>Precipitation</th>\n",
       "      <th>Open_Data</th>\n",
       "      <th>RoadTypes</th>\n",
       "      <th>Coordinates_Joined</th>\n",
       "      <th>closest_station</th>\n",
       "      <th>station_id</th>\n",
       "    </tr>\n",
       "  </thead>\n",
       "  <tbody>\n",
       "    <tr>\n",
       "      <th>0</th>\n",
       "      <td>0</td>\n",
       "      <td>0</td>\n",
       "      <td>0</td>\n",
       "      <td>0</td>\n",
       "      <td>00243.ppm</td>\n",
       "      <td>39</td>\n",
       "      <td>39</td>\n",
       "      <td>6</td>\n",
       "      <td>5</td>\n",
       "      <td>34</td>\n",
       "      <td>...</td>\n",
       "      <td>(50.77368911546188, 14.90019617615455)</td>\n",
       "      <td>2018-04-22 14:13</td>\n",
       "      <td>4</td>\n",
       "      <td>13.671968</td>\n",
       "      <td>1.185181</td>\n",
       "      <td>{\"place_id\":27871537,\"licence\":\"Data © OpenStr...</td>\n",
       "      <td>tourism</td>\n",
       "      <td>(14.90019618, 50.77368912)</td>\n",
       "      <td>(14.7457, 50.898999999999994)</td>\n",
       "      <td>2252</td>\n",
       "    </tr>\n",
       "    <tr>\n",
       "      <th>1</th>\n",
       "      <td>1</td>\n",
       "      <td>1</td>\n",
       "      <td>1</td>\n",
       "      <td>1</td>\n",
       "      <td>00252.ppm</td>\n",
       "      <td>51</td>\n",
       "      <td>52</td>\n",
       "      <td>6</td>\n",
       "      <td>6</td>\n",
       "      <td>46</td>\n",
       "      <td>...</td>\n",
       "      <td>(48.51778958678418, 13.97830932764219)</td>\n",
       "      <td>2018-06-17 06:32</td>\n",
       "      <td>6</td>\n",
       "      <td>11.433084</td>\n",
       "      <td>2.525739</td>\n",
       "      <td>{\"place_id\":151388289,\"licence\":\"Data © OpenSt...</td>\n",
       "      <td>building</td>\n",
       "      <td>(13.97830933, 48.51778959)</td>\n",
       "      <td>(13.6291, 48.7893)</td>\n",
       "      <td>1735</td>\n",
       "    </tr>\n",
       "    <tr>\n",
       "      <th>2</th>\n",
       "      <td>2</td>\n",
       "      <td>2</td>\n",
       "      <td>2</td>\n",
       "      <td>2</td>\n",
       "      <td>00403.ppm</td>\n",
       "      <td>43</td>\n",
       "      <td>44</td>\n",
       "      <td>5</td>\n",
       "      <td>5</td>\n",
       "      <td>38</td>\n",
       "      <td>...</td>\n",
       "      <td>(51.295523486623914, 11.410803378686577)</td>\n",
       "      <td>2019-03-22 23:04</td>\n",
       "      <td>3</td>\n",
       "      <td>-8.245346</td>\n",
       "      <td>0.125701</td>\n",
       "      <td>{\"place_id\":23868020,\"licence\":\"Data © OpenStr...</td>\n",
       "      <td>highway</td>\n",
       "      <td>(11.41080338, 51.29552349)</td>\n",
       "      <td>(11.292, 51.3745)</td>\n",
       "      <td>198</td>\n",
       "    </tr>\n",
       "    <tr>\n",
       "      <th>3</th>\n",
       "      <td>3</td>\n",
       "      <td>3</td>\n",
       "      <td>3</td>\n",
       "      <td>3</td>\n",
       "      <td>00579.ppm</td>\n",
       "      <td>37</td>\n",
       "      <td>37</td>\n",
       "      <td>6</td>\n",
       "      <td>6</td>\n",
       "      <td>32</td>\n",
       "      <td>...</td>\n",
       "      <td>(53.10506033953469, 6.215769916722947)</td>\n",
       "      <td>2018-06-06 20:13</td>\n",
       "      <td>6</td>\n",
       "      <td>13.242672</td>\n",
       "      <td>12.194975</td>\n",
       "      <td>{\"place_id\":38726811,\"licence\":\"Data © OpenStr...</td>\n",
       "      <td>place</td>\n",
       "      <td>(6.215769917, 53.10506034)</td>\n",
       "      <td>(6.7024, 53.5984)</td>\n",
       "      <td>7373</td>\n",
       "    </tr>\n",
       "    <tr>\n",
       "      <th>4</th>\n",
       "      <td>4</td>\n",
       "      <td>4</td>\n",
       "      <td>4</td>\n",
       "      <td>4</td>\n",
       "      <td>00675.ppm</td>\n",
       "      <td>45</td>\n",
       "      <td>47</td>\n",
       "      <td>5</td>\n",
       "      <td>5</td>\n",
       "      <td>40</td>\n",
       "      <td>...</td>\n",
       "      <td>(52.178771746878354, 8.063867173416643)</td>\n",
       "      <td>2019-01-30 18:39</td>\n",
       "      <td>1</td>\n",
       "      <td>-29.671187</td>\n",
       "      <td>7.520255</td>\n",
       "      <td>{\"place_id\":82948809,\"licence\":\"Data © OpenStr...</td>\n",
       "      <td>amenity</td>\n",
       "      <td>(8.063867173, 52.17877175)</td>\n",
       "      <td>(8.0534, 52.2553)</td>\n",
       "      <td>3815</td>\n",
       "    </tr>\n",
       "  </tbody>\n",
       "</table>\n",
       "<p>5 rows × 26 columns</p>\n",
       "</div>"
      ],
      "text/plain": [
       "   Unnamed: 0  Unnamed: 0.1  Unnamed: 0.1.1  Unnamed: 0.1.1.1   Filename  \\\n",
       "0           0             0               0                 0  00243.ppm   \n",
       "1           1             1               1                 1  00252.ppm   \n",
       "2           2             2               2                 2  00403.ppm   \n",
       "3           3             3               3                 3  00579.ppm   \n",
       "4           4             4               4                 4  00675.ppm   \n",
       "\n",
       "   Width  Height  Roi.X1  Roi.Y1  Roi.X2  ...  \\\n",
       "0     39      39       6       5      34  ...   \n",
       "1     51      52       6       6      46  ...   \n",
       "2     43      44       5       5      38  ...   \n",
       "3     37      37       6       6      32  ...   \n",
       "4     45      47       5       5      40  ...   \n",
       "\n",
       "                                Coordinates     formattedTime  month  \\\n",
       "0    (50.77368911546188, 14.90019617615455)  2018-04-22 14:13      4   \n",
       "1    (48.51778958678418, 13.97830932764219)  2018-06-17 06:32      6   \n",
       "2  (51.295523486623914, 11.410803378686577)  2019-03-22 23:04      3   \n",
       "3    (53.10506033953469, 6.215769916722947)  2018-06-06 20:13      6   \n",
       "4   (52.178771746878354, 8.063867173416643)  2019-01-30 18:39      1   \n",
       "\n",
       "   Temperature  Precipitation  \\\n",
       "0    13.671968       1.185181   \n",
       "1    11.433084       2.525739   \n",
       "2    -8.245346       0.125701   \n",
       "3    13.242672      12.194975   \n",
       "4   -29.671187       7.520255   \n",
       "\n",
       "                                           Open_Data RoadTypes  \\\n",
       "0  {\"place_id\":27871537,\"licence\":\"Data © OpenStr...   tourism   \n",
       "1  {\"place_id\":151388289,\"licence\":\"Data © OpenSt...  building   \n",
       "2  {\"place_id\":23868020,\"licence\":\"Data © OpenStr...   highway   \n",
       "3  {\"place_id\":38726811,\"licence\":\"Data © OpenStr...     place   \n",
       "4  {\"place_id\":82948809,\"licence\":\"Data © OpenStr...   amenity   \n",
       "\n",
       "           Coordinates_Joined                closest_station  station_id  \n",
       "0  (14.90019618, 50.77368912)  (14.7457, 50.898999999999994)        2252  \n",
       "1  (13.97830933, 48.51778959)             (13.6291, 48.7893)        1735  \n",
       "2  (11.41080338, 51.29552349)              (11.292, 51.3745)         198  \n",
       "3  (6.215769917, 53.10506034)              (6.7024, 53.5984)        7373  \n",
       "4  (8.063867173, 52.17877175)              (8.0534, 52.2553)        3815  \n",
       "\n",
       "[5 rows x 26 columns]"
      ]
     },
     "execution_count": 2,
     "metadata": {},
     "output_type": "execute_result"
    }
   ],
   "source": [
    "## sample data set\n",
    "df = pd.read_csv(d + file_path)\n",
    "df.head()"
   ]
  },
  {
   "cell_type": "markdown",
   "metadata": {},
   "source": [
    "## Finds the closest station \n",
    "uses the cdist to Pairwise distances between observations\n",
    "\n",
    "@toDo: make sure the stationsLists are consistent between the two\n"
   ]
  },
  {
   "cell_type": "code",
   "execution_count": 7,
   "metadata": {},
   "outputs": [
    {
     "name": "stdout",
     "output_type": "stream",
     "text": [
      "['Stations_id' 'von_datum' 'bis_datum' 'Stationshoehe' 'geoBreite'\n",
      " 'geoLaenge' 'Stationsname' 'Bundesland' 'Unnamed: 8' 'Unnamed: 9'\n",
      " 'Unnamed: 10']\n"
     ]
    }
   ],
   "source": [
    "## Find closest station point to coordinates \n",
    "weather_file_path = \"/test_dataset/weather_data/stations.csv\"\n",
    "df_stations_list = pd.read_csv(d + weather_file_path)\n",
    "print(df_stations_list.columns.values)\n",
    "df_stations_list['All_Stations_Coordinates'] = list(zip(df_stations_list['geoLaenge'], df_stations_list['geoBreite']))\n",
    "df['Coordinates_Joined'] = list(zip(df.Longitude, df.Latitude))"
   ]
  },
  {
   "cell_type": "code",
   "execution_count": 9,
   "metadata": {},
   "outputs": [],
   "source": [
    "import pandas as pd\n",
    "from scipy.spatial.distance import cdist\n",
    "\n",
    "def closest_point(point, points):\n",
    "    \"\"\" Find closest point from a list of points. \"\"\"\n",
    "    return points[cdist([point], points).argmin()]\n",
    "\n",
    "def match_value(df, col1, x, col2):\n",
    "    \"\"\" Match value x from col1 row to value in col2. \"\"\"\n",
    "    return df[df[col1] == x][col2].values[0]\n",
    "\n",
    "\n",
    "df['closest_station'] = [closest_point(x, list(df_stations_list['All_Stations_Coordinates'])) for x in df['Coordinates_Joined']]\n",
    "df['station_id'] = [match_value(df_stations_list, 'All_Stations_Coordinates', x, 'Stations_id') for x in df['closest_station']]\n",
    "df.to_csv(d + file_path)\n"
   ]
  },
  {
   "cell_type": "code",
   "execution_count": 42,
   "metadata": {
    "scrolled": true
   },
   "outputs": [
    {
     "ename": "KeyboardInterrupt",
     "evalue": "",
     "traceback": [
      "\u001b[0;31m---------------------------------------------------------------------------\u001b[0m",
      "\u001b[0;31mKeyboardInterrupt\u001b[0m                         Traceback (most recent call last)",
      "\u001b[0;32m<ipython-input-42-9e47b7bdb318>\u001b[0m in \u001b[0;36m<module>\u001b[0;34m\u001b[0m\n\u001b[1;32m      3\u001b[0m \u001b[0mhourly_air_temp_df\u001b[0m \u001b[0;34m=\u001b[0m \u001b[0mpd\u001b[0m\u001b[0;34m.\u001b[0m\u001b[0mread_csv\u001b[0m\u001b[0;34m(\u001b[0m\u001b[0md\u001b[0m \u001b[0;34m+\u001b[0m \u001b[0mhourly_air_lookup\u001b[0m\u001b[0;34m[\u001b[0m\u001b[0;36m0\u001b[0m\u001b[0;34m]\u001b[0m \u001b[0;34m+\u001b[0m \u001b[0mhourly_air_lookup\u001b[0m\u001b[0;34m[\u001b[0m\u001b[0;36m1\u001b[0m\u001b[0;34m]\u001b[0m\u001b[0;34m,\u001b[0m \u001b[0;34m\";\"\u001b[0m\u001b[0;34m)\u001b[0m\u001b[0;34m\u001b[0m\u001b[0m\n\u001b[1;32m      4\u001b[0m \u001b[0mhourly_air_temp_df\u001b[0m\u001b[0;34m.\u001b[0m\u001b[0mdrop\u001b[0m\u001b[0;34m(\u001b[0m\u001b[0mhourly_air_temp_df\u001b[0m\u001b[0;34m.\u001b[0m\u001b[0mloc\u001b[0m\u001b[0;34m[\u001b[0m\u001b[0mhourly_air_temp_df\u001b[0m\u001b[0;34m[\u001b[0m\u001b[0;34m'TT_TU'\u001b[0m\u001b[0;34m]\u001b[0m\u001b[0;34m==\u001b[0m\u001b[0;34m-\u001b[0m\u001b[0;36m999\u001b[0m\u001b[0;34m]\u001b[0m\u001b[0;34m.\u001b[0m\u001b[0mindex\u001b[0m\u001b[0;34m,\u001b[0m \u001b[0minplace\u001b[0m\u001b[0;34m=\u001b[0m\u001b[0;32mTrue\u001b[0m\u001b[0;34m)\u001b[0m\u001b[0;34m\u001b[0m\u001b[0m\n\u001b[0;32m----> 5\u001b[0;31m \u001b[0mprint\u001b[0m\u001b[0;34m(\u001b[0m\u001b[0mmax\u001b[0m\u001b[0;34m(\u001b[0m\u001b[0mhourly_air_temp_df\u001b[0m\u001b[0;34m[\u001b[0m\u001b[0;34m'TT_TU'\u001b[0m\u001b[0;34m]\u001b[0m\u001b[0;34m)\u001b[0m\u001b[0;34m)\u001b[0m\u001b[0;34m\u001b[0m\u001b[0m\n\u001b[0m\u001b[1;32m      6\u001b[0m \u001b[0mprint\u001b[0m\u001b[0;34m(\u001b[0m\u001b[0mmin\u001b[0m\u001b[0;34m(\u001b[0m\u001b[0mhourly_air_temp_df\u001b[0m\u001b[0;34m[\u001b[0m\u001b[0;34m'TT_TU'\u001b[0m\u001b[0;34m]\u001b[0m\u001b[0;34m)\u001b[0m\u001b[0;34m)\u001b[0m\u001b[0;34m\u001b[0m\u001b[0m\n\u001b[1;32m      7\u001b[0m \u001b[0mhourly_air_temp_df\u001b[0m\u001b[0;34m.\u001b[0m\u001b[0mdescribe\u001b[0m\u001b[0;34m(\u001b[0m\u001b[0;34m)\u001b[0m\u001b[0;34m\u001b[0m\u001b[0m\n",
      "\u001b[0;31mKeyboardInterrupt\u001b[0m: "
     ],
     "output_type": "error"
    }
   ],
   "source": [
    "## ## Hourly need to recreate this \n",
    "\n",
    "hourly_air_temp_df = pd.read_csv(d + hourly_air_lookup[0] + hourly_air_lookup[1], \";\")\n",
    "hourly_air_temp_df.drop(hourly_air_temp_df.loc[hourly_air_temp_df['TT_TU']==-999].index, inplace=True)\n",
    "print(max(hourly_air_temp_df['TT_TU']))\n",
    "print(min(hourly_air_temp_df['TT_TU']))\n",
    "hourly_air_temp_df.describe()\n"
   ]
  },
  {
   "cell_type": "code",
   "execution_count": 41,
   "metadata": {},
   "outputs": [
    {
     "data": {
      "text/html": [
       "<div>\n",
       "<style scoped>\n",
       "    .dataframe tbody tr th:only-of-type {\n",
       "        vertical-align: middle;\n",
       "    }\n",
       "\n",
       "    .dataframe tbody tr th {\n",
       "        vertical-align: top;\n",
       "    }\n",
       "\n",
       "    .dataframe thead th {\n",
       "        text-align: right;\n",
       "    }\n",
       "</style>\n",
       "<table border=\"1\" class=\"dataframe\">\n",
       "  <thead>\n",
       "    <tr style=\"text-align: right;\">\n",
       "      <th></th>\n",
       "      <th>STATIONS_ID</th>\n",
       "      <th>MESS_DATUM</th>\n",
       "      <th>QN_9</th>\n",
       "      <th>TT_TU</th>\n",
       "      <th>RF_TU</th>\n",
       "      <th>2017102000</th>\n",
       "      <th>3</th>\n",
       "      <th>16.3</th>\n",
       "      <th>65.0</th>\n",
       "      <th>eor</th>\n",
       "    </tr>\n",
       "    <tr>\n",
       "      <th>month</th>\n",
       "      <th></th>\n",
       "      <th></th>\n",
       "      <th></th>\n",
       "      <th></th>\n",
       "      <th></th>\n",
       "      <th></th>\n",
       "      <th></th>\n",
       "      <th></th>\n",
       "      <th></th>\n",
       "      <th></th>\n",
       "    </tr>\n",
       "  </thead>\n",
       "  <tbody>\n",
       "    <tr>\n",
       "      <th>01</th>\n",
       "      <td>3735.586958</td>\n",
       "      <td>2.018509e+09</td>\n",
       "      <td>3.000000</td>\n",
       "      <td>2.092450</td>\n",
       "      <td>86.328864</td>\n",
       "      <td>NaN</td>\n",
       "      <td>NaN</td>\n",
       "      <td>NaN</td>\n",
       "      <td>NaN</td>\n",
       "      <td>NaN</td>\n",
       "    </tr>\n",
       "    <tr>\n",
       "      <th>02</th>\n",
       "      <td>3742.775176</td>\n",
       "      <td>2.018518e+09</td>\n",
       "      <td>3.000000</td>\n",
       "      <td>0.921273</td>\n",
       "      <td>77.726190</td>\n",
       "      <td>NaN</td>\n",
       "      <td>NaN</td>\n",
       "      <td>NaN</td>\n",
       "      <td>NaN</td>\n",
       "      <td>NaN</td>\n",
       "    </tr>\n",
       "    <tr>\n",
       "      <th>03</th>\n",
       "      <td>3743.512679</td>\n",
       "      <td>2.018528e+09</td>\n",
       "      <td>2.743242</td>\n",
       "      <td>4.405883</td>\n",
       "      <td>77.111287</td>\n",
       "      <td>NaN</td>\n",
       "      <td>NaN</td>\n",
       "      <td>NaN</td>\n",
       "      <td>NaN</td>\n",
       "      <td>NaN</td>\n",
       "    </tr>\n",
       "    <tr>\n",
       "      <th>04</th>\n",
       "      <td>3742.650205</td>\n",
       "      <td>2.018462e+09</td>\n",
       "      <td>2.158254</td>\n",
       "      <td>10.813550</td>\n",
       "      <td>66.873219</td>\n",
       "      <td>NaN</td>\n",
       "      <td>NaN</td>\n",
       "      <td>NaN</td>\n",
       "      <td>NaN</td>\n",
       "      <td>NaN</td>\n",
       "    </tr>\n",
       "    <tr>\n",
       "      <th>05</th>\n",
       "      <td>3717.385031</td>\n",
       "      <td>2.018052e+09</td>\n",
       "      <td>3.000000</td>\n",
       "      <td>15.843544</td>\n",
       "      <td>68.325104</td>\n",
       "      <td>NaN</td>\n",
       "      <td>NaN</td>\n",
       "      <td>NaN</td>\n",
       "      <td>NaN</td>\n",
       "      <td>NaN</td>\n",
       "    </tr>\n",
       "    <tr>\n",
       "      <th>06</th>\n",
       "      <td>3721.550372</td>\n",
       "      <td>2.018062e+09</td>\n",
       "      <td>3.000000</td>\n",
       "      <td>17.630494</td>\n",
       "      <td>71.209262</td>\n",
       "      <td>NaN</td>\n",
       "      <td>NaN</td>\n",
       "      <td>NaN</td>\n",
       "      <td>NaN</td>\n",
       "      <td>NaN</td>\n",
       "    </tr>\n",
       "    <tr>\n",
       "      <th>07</th>\n",
       "      <td>3723.337450</td>\n",
       "      <td>2.018072e+09</td>\n",
       "      <td>3.000000</td>\n",
       "      <td>20.200069</td>\n",
       "      <td>62.175363</td>\n",
       "      <td>NaN</td>\n",
       "      <td>NaN</td>\n",
       "      <td>NaN</td>\n",
       "      <td>NaN</td>\n",
       "      <td>NaN</td>\n",
       "    </tr>\n",
       "    <tr>\n",
       "      <th>08</th>\n",
       "      <td>3720.136902</td>\n",
       "      <td>2.018082e+09</td>\n",
       "      <td>3.000000</td>\n",
       "      <td>19.847027</td>\n",
       "      <td>64.295228</td>\n",
       "      <td>NaN</td>\n",
       "      <td>NaN</td>\n",
       "      <td>NaN</td>\n",
       "      <td>NaN</td>\n",
       "      <td>NaN</td>\n",
       "    </tr>\n",
       "    <tr>\n",
       "      <th>09</th>\n",
       "      <td>3717.033215</td>\n",
       "      <td>2.018092e+09</td>\n",
       "      <td>3.000000</td>\n",
       "      <td>15.027575</td>\n",
       "      <td>71.603376</td>\n",
       "      <td>NaN</td>\n",
       "      <td>NaN</td>\n",
       "      <td>NaN</td>\n",
       "      <td>NaN</td>\n",
       "      <td>NaN</td>\n",
       "    </tr>\n",
       "    <tr>\n",
       "      <th>10</th>\n",
       "      <td>3722.577619</td>\n",
       "      <td>2.017820e+09</td>\n",
       "      <td>3.000000</td>\n",
       "      <td>10.398919</td>\n",
       "      <td>80.188080</td>\n",
       "      <td>NaN</td>\n",
       "      <td>NaN</td>\n",
       "      <td>NaN</td>\n",
       "      <td>NaN</td>\n",
       "      <td>NaN</td>\n",
       "    </tr>\n",
       "    <tr>\n",
       "      <th>11</th>\n",
       "      <td>3734.166538</td>\n",
       "      <td>2.017610e+09</td>\n",
       "      <td>3.000000</td>\n",
       "      <td>5.092561</td>\n",
       "      <td>87.239018</td>\n",
       "      <td>NaN</td>\n",
       "      <td>NaN</td>\n",
       "      <td>NaN</td>\n",
       "      <td>NaN</td>\n",
       "      <td>NaN</td>\n",
       "    </tr>\n",
       "    <tr>\n",
       "      <th>12</th>\n",
       "      <td>3733.612243</td>\n",
       "      <td>2.017619e+09</td>\n",
       "      <td>3.000000</td>\n",
       "      <td>3.145800</td>\n",
       "      <td>88.008926</td>\n",
       "      <td>NaN</td>\n",
       "      <td>NaN</td>\n",
       "      <td>NaN</td>\n",
       "      <td>NaN</td>\n",
       "      <td>NaN</td>\n",
       "    </tr>\n",
       "  </tbody>\n",
       "</table>\n",
       "</div>"
      ],
      "text/plain": [
       "       STATIONS_ID    MESS_DATUM      QN_9      TT_TU      RF_TU  2017102000  \\\n",
       "month                                                                          \n",
       "01     3735.586958  2.018509e+09  3.000000   2.092450  86.328864         NaN   \n",
       "02     3742.775176  2.018518e+09  3.000000   0.921273  77.726190         NaN   \n",
       "03     3743.512679  2.018528e+09  2.743242   4.405883  77.111287         NaN   \n",
       "04     3742.650205  2.018462e+09  2.158254  10.813550  66.873219         NaN   \n",
       "05     3717.385031  2.018052e+09  3.000000  15.843544  68.325104         NaN   \n",
       "06     3721.550372  2.018062e+09  3.000000  17.630494  71.209262         NaN   \n",
       "07     3723.337450  2.018072e+09  3.000000  20.200069  62.175363         NaN   \n",
       "08     3720.136902  2.018082e+09  3.000000  19.847027  64.295228         NaN   \n",
       "09     3717.033215  2.018092e+09  3.000000  15.027575  71.603376         NaN   \n",
       "10     3722.577619  2.017820e+09  3.000000  10.398919  80.188080         NaN   \n",
       "11     3734.166538  2.017610e+09  3.000000   5.092561  87.239018         NaN   \n",
       "12     3733.612243  2.017619e+09  3.000000   3.145800  88.008926         NaN   \n",
       "\n",
       "        3  16.3  65.0  eor  \n",
       "month                       \n",
       "01    NaN   NaN   NaN  NaN  \n",
       "02    NaN   NaN   NaN  NaN  \n",
       "03    NaN   NaN   NaN  NaN  \n",
       "04    NaN   NaN   NaN  NaN  \n",
       "05    NaN   NaN   NaN  NaN  \n",
       "06    NaN   NaN   NaN  NaN  \n",
       "07    NaN   NaN   NaN  NaN  \n",
       "08    NaN   NaN   NaN  NaN  \n",
       "09    NaN   NaN   NaN  NaN  \n",
       "10    NaN   NaN   NaN  NaN  \n",
       "11    NaN   NaN   NaN  NaN  \n",
       "12    NaN   NaN   NaN  NaN  "
      ]
     },
     "execution_count": 41,
     "metadata": {},
     "output_type": "execute_result"
    }
   ],
   "source": [
    "#print(type(hourly_air_temp_df['MESS_DATUM']))\n",
    "hourly_air_temp_df['formattedTime'] = pd.to_datetime(hourly_air_temp_df['MESS_DATUM'].astype(str), format='%Y%m%d%H', errors='ignore')\n",
    "hourly_air_temp_df['month'] = pd.to_datetime(hourly_air_temp_df['formattedTime']).dt.strftime('%m')\n",
    "hourly_air_temp_df.groupby(['month']).mean()\n"
   ]
  },
  {
   "cell_type": "code",
   "execution_count": 1,
   "metadata": {},
   "outputs": [
    {
     "ename": "NameError",
     "evalue": "name 'hourly_air_temp_df' is not defined",
     "traceback": [
      "\u001b[0;31m---------------------------------------------------------------------------\u001b[0m",
      "\u001b[0;31mNameError\u001b[0m                                 Traceback (most recent call last)",
      "\u001b[0;32m<ipython-input-1-548aa84f73df>\u001b[0m in \u001b[0;36m<module>\u001b[0;34m\u001b[0m\n\u001b[1;32m      2\u001b[0m \u001b[0;31m#hourly_air_temp_df.to_csv(d+\"/test_dataset/weather_data/dummy_generator.csv\")\u001b[0m\u001b[0;34m\u001b[0m\u001b[0;34m\u001b[0m\u001b[0;34m\u001b[0m\u001b[0m\n\u001b[1;32m      3\u001b[0m \u001b[0;34m\u001b[0m\u001b[0m\n\u001b[0;32m----> 4\u001b[0;31m \u001b[0mhourly_air_temp_df\u001b[0m\u001b[0;34m[\u001b[0m\u001b[0;34m\"month\"\u001b[0m\u001b[0;34m]\u001b[0m \u001b[0;34m=\u001b[0m \u001b[0mhourly_air_temp_df\u001b[0m\u001b[0;34m.\u001b[0m\u001b[0mmonth\u001b[0m\u001b[0;34m.\u001b[0m\u001b[0mastype\u001b[0m\u001b[0;34m(\u001b[0m\u001b[0mfloat\u001b[0m\u001b[0;34m)\u001b[0m\u001b[0;34m\u001b[0m\u001b[0;34m\u001b[0m\u001b[0m\n\u001b[0m",
      "\u001b[0;31mNameError\u001b[0m: name 'hourly_air_temp_df' is not defined"
     ],
     "output_type": "error"
    }
   ],
   "source": [
    "#monthly = hourly_air_temp_df.groupby('month')\n",
    "#hourly_air_temp_df.to_csv(d+\"/test_dataset/weather_data/dummy_generator.csv\")\n",
    "\n",
    "hourly_air_temp_df[\"month\"] = hourly_air_temp_df.month.astype(float)\n"
   ]
  },
  {
   "cell_type": "markdown",
   "metadata": {},
   "source": [
    "# Monthly Precipitation \n",
    "## per month \n",
    "\n",
    "## per station "
   ]
  },
  {
   "cell_type": "code",
   "execution_count": 36,
   "metadata": {},
   "outputs": [],
   "source": [
    "precip_path = \"/test_dataset/weather_data/precip/ftp-cdc.dwd.de/depr/CDC/observations_germany/climate/monthly/more_precip/historical/\"\n",
    "header_ = \"STATIONS_ID; MESS_DATUM_BEGINN; MESS_DATUM_ENDE; QUALITAETS_NIVEAU; ART; NIEDERSCHLAGSHOEHE;NEUSCHNEEHOEHE;SCHNEEHOEHE; ART; max(NIEDERSCHLAGSHOEHE);eor\"\n"
   ]
  },
  {
   "cell_type": "code",
   "execution_count": 41,
   "metadata": {},
   "outputs": [],
   "source": [
    "precip_df = pd.read_csv(d + precip_path + \"compiled_.csv\", \";\")\n",
    "precip_df.head()\n",
    "\n",
    "# remove rows with \"999\"\n",
    "precip_df.drop(precip_df.loc[precip_df['NEUSCHNEEHOEHE']==-999].index, inplace=True)\n",
    "precip_df['formattedTime'] = pd.to_datetime(precip_df[' MESS_DATUM_BEGINN'], format='%Y%m%d', errors='ignore')\n",
    "precip_df['month'] = pd.to_datetime(precip_df['formattedTime']).dt.strftime('%m')"
   ]
  },
  {
   "cell_type": "code",
   "execution_count": 39,
   "metadata": {},
   "outputs": [
    {
     "name": "stdout",
     "output_type": "stream",
     "text": [
      "       STATIONS_ID   MESS_DATUM_BEGINN   MESS_DATUM_ENDE   QUALITAETS_NIVEAU  \\\n",
      "month                                                                          \n",
      "01     2606.807820        1.992512e+07      1.992515e+07            8.265442   \n",
      "02     2605.605556        1.992483e+07      1.992486e+07            8.262489   \n",
      "03     2605.749556        1.992495e+07      1.992498e+07            8.264809   \n",
      "04     2604.366103        1.992477e+07      1.992480e+07            8.271008   \n",
      "05     2603.867555        1.992053e+07      1.992056e+07            8.388080   \n",
      "06     2603.571293        1.992050e+07      1.992053e+07            8.388548   \n",
      "07     2604.386209        1.992039e+07      1.992042e+07            8.389429   \n",
      "08     2604.168234        1.992048e+07      1.992051e+07            8.388454   \n",
      "09     2603.074233        1.992062e+07      1.992065e+07            8.358090   \n",
      "10     2604.234366        1.992524e+07      1.992527e+07            8.180004   \n",
      "11     2606.165909        1.992547e+07      1.992550e+07            8.178516   \n",
      "12     2605.250788        1.992670e+07      1.992673e+07            8.195741   \n",
      "\n",
      "        ART   NIEDERSCHLAGSHOEHE  NEUSCHNEEHOEHE  SCHNEEHOEHE     ART.1  \\\n",
      "month                                                                     \n",
      "01      2.0            66.953298       18.952406   173.125433  5.971069   \n",
      "02      2.0            54.884940       17.984645   171.073083  5.980687   \n",
      "03      2.0            64.131094       10.698175   104.144727  5.961450   \n",
      "04      2.0            55.627223        3.504321    22.830984  5.980828   \n",
      "05      2.0            74.671734        0.267962     2.072972  6.000000   \n",
      "06      2.0            85.313700        0.018186    -0.003970  5.961071   \n",
      "07      2.0            91.498539        0.000204    -0.067521  6.000000   \n",
      "08      2.0            81.053655        0.000689    -0.028351  5.990249   \n",
      "09      2.0            70.141525        0.017362     0.003562  6.000000   \n",
      "10      2.0            65.602699        0.565193     1.278547  5.952235   \n",
      "11      2.0            69.021618        7.018785    23.825980  5.923100   \n",
      "12      2.0            76.946563       16.859722    97.512422  5.961109   \n",
      "\n",
      "        max(NIEDERSCHLAGSHOEHE)  19140101  19140131   5   2  48.0  -999  \\\n",
      "month                                                                     \n",
      "01                    14.951136       NaN       NaN NaN NaN   NaN   NaN   \n",
      "02                    13.176200       NaN       NaN NaN NaN   NaN   NaN   \n",
      "03                    14.665912       NaN       NaN NaN NaN   NaN   NaN   \n",
      "04                    14.523703       NaN       NaN NaN NaN   NaN   NaN   \n",
      "05                    19.464117       NaN       NaN NaN NaN   NaN   NaN   \n",
      "06                    22.476700       NaN       NaN NaN NaN   NaN   NaN   \n",
      "07                    24.278476       NaN       NaN NaN NaN   NaN   NaN   \n",
      "08                    22.643650       NaN       NaN NaN NaN   NaN   NaN   \n",
      "09                    19.531274       NaN       NaN NaN NaN   NaN   NaN   \n",
      "10                    17.092895       NaN       NaN NaN NaN   NaN   NaN   \n",
      "11                    16.710933       NaN       NaN NaN NaN   NaN   NaN   \n",
      "12                    17.338793       NaN       NaN NaN NaN   NaN   NaN   \n",
      "\n",
      "       -999.1  -999.2  -999.3  eor  \n",
      "month                               \n",
      "01        NaN     NaN     NaN  NaN  \n",
      "02        NaN     NaN     NaN  NaN  \n",
      "03        NaN     NaN     NaN  NaN  \n",
      "04        NaN     NaN     NaN  NaN  \n",
      "05        NaN     NaN     NaN  NaN  \n",
      "06        NaN     NaN     NaN  NaN  \n",
      "07        NaN     NaN     NaN  NaN  \n",
      "08        NaN     NaN     NaN  NaN  \n",
      "09        NaN     NaN     NaN  NaN  \n",
      "10        NaN     NaN     NaN  NaN  \n",
      "11        NaN     NaN     NaN  NaN  \n",
      "12        NaN     NaN     NaN  NaN  \n"
     ]
    }
   ],
   "source": [
    "months = precip_df.groupby('month').mean() \n",
    "print(months)"
   ]
  },
  {
   "cell_type": "markdown",
   "metadata": {},
   "source": [
    "# Monthly Air Temperature"
   ]
  },
  {
   "cell_type": "code",
   "execution_count": null,
   "metadata": {},
   "outputs": [],
   "source": []
  },
  {
   "cell_type": "markdown",
   "metadata": {},
   "source": [
    "# PDF by region and sampling month"
   ]
  },
  {
   "cell_type": "code",
   "execution_count": 3,
   "metadata": {},
   "outputs": [
    {
     "name": "stderr",
     "output_type": "stream",
     "text": [
      "b'Skipping line 1383: expected 20 fields, saw 39\\n'\n"
     ]
    },
    {
     "data": {
      "image/png": "[encoded data removed]",
      "text/plain": [
       "<Figure size 432x288 with 1 Axes>"
      ]
     },
     "metadata": {
      "needs_background": "light"
     },
     "output_type": "display_data"
    },
    {
     "data": {
      "image/png": "[encoded data removed]",
      "text/plain": [
       "<Figure size 432x288 with 1 Axes>"
      ]
     },
     "metadata": {
      "needs_background": "light"
     },
     "output_type": "display_data"
    },
    {
     "data": {
      "image/png": "[encoded data removed]",
      "text/plain": [
       "<Figure size 432x288 with 1 Axes>"
      ]
     },
     "metadata": {
      "needs_background": "light"
     },
     "output_type": "display_data"
    },
    {
     "data": {
      "image/png": "[encoded data removed]",
      "text/plain": [
       "<Figure size 432x288 with 1 Axes>"
      ]
     },
     "metadata": {
      "needs_background": "light"
     },
     "output_type": "display_data"
    }
   ],
   "source": [
    "temperature_data_path = \"/test_dataset/weather_data/regional_average_air_temp/compiled_air_temp.csv\"\n",
    "path = d+temperature_data_path\n",
    "df_temperature = pd.read_csv(path, sep=';', error_bad_lines=False)\n",
    "\n",
    "\n",
    "precip_data_path = \"/test_dataset/weather_data/regional_average_monthly_precipitation/compiled_precip.csv\"\n",
    "path = d+precip_data_path\n",
    "df_percip = pd.read_csv(path, sep=';', error_bad_lines=False)\n",
    "\n",
    "\n",
    "\n",
    "def get_monthly_samples_by_region(df_type, month, region_name, title):\n",
    "    df_subsample = df_type.loc[df_type['Monat'] == month]\n",
    "    tips = sns.load_dataset(\"tips\")\n",
    "    sns.distplot(pd.to_numeric(df_subsample[region_name]), hist=True, kde=True, \n",
    "             bins=int(180/5), color = 'darkblue', \n",
    "             hist_kws={'edgecolor':'black'},\n",
    "             kde_kws={'linewidth': 4}).set_title(title + \" in \" + month)\n",
    "    plt.show()\n",
    "    \n",
    "\n",
    "## TEMPERATURE PROFILES\n",
    "get_monthly_samples_by_region(df_temperature, \"08\", \"Bayern\", \"air temperature\")\n",
    "get_monthly_samples_by_region(df_temperature, \"08\", \"Hessen\",  \"air temperature\")\n",
    "\n",
    "## PERCIPITATION PROFILES\n",
    "get_monthly_samples_by_region(df_percip, \"08\", \"Bayern\", \"percipitation\")\n",
    "get_monthly_samples_by_region(df_percip, \"08\", \"Hessen\", \"percipitation\")\n",
    "\n",
    "## add rejection sampling \n",
    "\n",
    "\n",
    "\n",
    "\n"
   ]
  },
  {
   "cell_type": "markdown",
   "metadata": {},
   "source": [
    "# Hourly \n",
    "airtemp: \n",
    "\n",
    "ftp://ftp-cdc.dwd.de/depr/CDC/observations_germany/climate/hourly/air_temperature/recent/\n",
    "\n",
    "precipitation: \n",
    "\n",
    "ftp://ftp-cdc.dwd.de/depr/CDC/observations_germany/climate/hourly/precipitation/recent/\n",
    "\n"
   ]
  },
  {
   "cell_type": "code",
   "execution_count": 9,
   "metadata": {},
   "outputs": [
    {
     "data": {
      "image/png": "[encoded data removed]",
      "text/plain": [
       "<Figure size 432x288 with 1 Axes>"
      ]
     },
     "metadata": {},
     "output_type": "display_data"
    },
    {
     "data": {
      "image/png": "[encoded data removed]",
      "text/plain": [
       "<Figure size 432x288 with 1 Axes>"
      ]
     },
     "metadata": {},
     "output_type": "display_data"
    }
   ],
   "source": [
    "hourly_air_temp_df = pd.read_csv(d+\"/test_dataset/weather_data/dummy_generator.csv\")\n",
    "def plot_by_month():\n",
    "    for i in range(1,13):\n",
    "        if i < 10: \n",
    "            string = \"0\" + str(i)\n",
    "        else: \n",
    "            string = str(i)\n",
    "        df_subsample = hourly_air_temp_df.loc[hourly_air_temp_df['month'] == string]\n",
    "        tips = sns.load_dataset(\"tips\")\n",
    "        sns.distplot(pd.to_numeric(df_subsample[\"TT_TU\"]), hist=True, kde=True, \n",
    "                 bins=int(180/5), color = 'darkblue', \n",
    "                 hist_kws={'edgecolor':'black'},\n",
    "                 kde_kws={'linewidth': 4}).set_title(string + \" in \" + \"GERMANY\")\n",
    "        plt.plot()\n",
    "        plt.show()\n",
    "    \n",
    "\n",
    "def plot_by_station_by_month(station_id, month):\n",
    "    \"\"\" {QUERY: month, & stations_id}  \"\"\"  \n",
    "    df_subsample = hourly_air_temp_df.loc[(hourly_air_temp_df['month'] == month) \n",
    "                                          & (hourly_air_temp_df['STATIONS_ID'] == station_id)]\n",
    "    tips = sns.load_dataset(\"tips\")\n",
    "    sns.distplot(pd.to_numeric(df_subsample[\"TT_TU\"]), hist=True, kde=True, \n",
    "                 bins=int(180/5), color = 'darkblue', \n",
    "                 hist_kws={'edgecolor':'black'},\n",
    "                 kde_kws={'linewidth': 4}).set_title(str(station_id) + \" in \" + str(month))\n",
    "    plt.plot()\n",
    "    plt.show()\n",
    "\n",
    "plot_by_station_by_month(5300, 3)\n",
    "plot_by_station_by_month(5300, 1)\n",
    "\n",
    "\n",
    "\n",
    "\n"
   ]
  },
  {
   "cell_type": "code",
   "execution_count": 64,
   "metadata": {},
   "outputs": [
    {
     "data": {
      "text/plain": [
       "<matplotlib.axes._subplots.AxesSubplot at 0x17f547be0>"
      ]
     },
     "execution_count": 64,
     "metadata": {},
     "output_type": "execute_result"
    },
    {
     "data": {
      "image/png": "[encoded data removed]",
      "text/plain": [
       "<Figure size 432x288 with 1 Axes>"
      ]
     },
     "metadata": {
      "needs_background": "light"
     },
     "output_type": "display_data"
    }
   ],
   "source": []
  },
  {
   "cell_type": "code",
   "execution_count": 65,
   "metadata": {},
   "outputs": [],
   "source": [
    "### TO DO Rejection sampling "
   ]
  },
  {
   "cell_type": "code",
   "execution_count": 7,
   "metadata": {},
   "outputs": [
    {
     "name": "stdout",
     "output_type": "stream",
     "text": [
      "[-50 -49 -48 -47 -46 -45 -44 -43 -42 -41 -40 -39 -38 -37 -36 -35 -34 -33\n",
      " -32 -31 -30 -29 -28 -27 -26 -25 -24 -23 -22 -21 -20 -19 -18 -17 -16 -15\n",
      " -14 -13 -12 -11 -10  -9  -8  -7  -6  -5  -4  -3  -2  -1   0   1   2   3\n",
      "   4   5   6   7   8   9  10  11  12  13  14  15  16  17  18  19  20  21\n",
      "  22  23  24  25  26  27  28  29  30  31  32  33  34  35  36  37  38  39\n",
      "  40  41  42  43  44  45  46  47  48  49  50  51  52  53  54  55  56  57\n",
      "  58  59  60  61  62  63  64  65  66  67  68  69  70  71  72  73  74  75\n",
      "  76  77  78  79  80  81  82  83  84  85  86  87  88  89  90  91  92  93\n",
      "  94  95  96  97  98  99 100 101 102 103 104 105 106 107 108 109 110 111\n",
      " 112 113 114 115 116 117 118 119 120 121 122 123 124 125 126 127 128 129\n",
      " 130 131 132 133 134 135 136 137 138 139 140 141 142 143 144 145 146 147\n",
      " 148 149 150]\n",
      "HELLO\n"
     ]
    }
   ],
   "source": [
    "import numpy as np\n",
    "import scipy.stats as st\n",
    "import seaborn as sns\n",
    "import matplotlib.pyplot as plt\n",
    "\n",
    "\n",
    "sns.set()\n",
    "\n",
    "\n",
    "def p(x):\n",
    "    return st.norm.pdf(x, loc=30, scale=10) + st.norm.pdf(x, loc=80, scale=20)\n",
    "\n",
    "\n",
    "def q(x):\n",
    "    return st.norm.pdf(x, loc=50, scale=30)\n",
    "\n",
    "\n",
    "x = np.arange(-50, 151)\n",
    "k = max(p(x) / q(x))\n",
    "\n",
    "## x is our temperature \n",
    "\n",
    "print(x)\n",
    "\n",
    "\n",
    "def rejection_sampling(iter=1000):\n",
    "    samples = []\n",
    "\n",
    "    for i in range(iter):\n",
    "        z = np.random.normal(50, 30)\n",
    "        u = np.random.uniform(0, k*q(z))\n",
    "\n",
    "        if u <= p(z):\n",
    "            samples.append(z)\n",
    "\n",
    "    return np.array(samples)\n",
    "\n",
    "\n",
    "if __name__ == '__main__':\n",
    "    print(\"HELLO\")\n",
    "#     plt.plot(x, p(x))\n",
    "#     plt.plot(x, k*q(x))\n",
    "#     plt.show()\n",
    "\n",
    "#     s = rejection_sampling(iter=10)\n",
    "#     print(s)\n",
    "#     sns.distplot(s)"
   ]
  },
  {
   "cell_type": "code",
   "execution_count": 1,
   "metadata": {},
   "outputs": [
    {
     "ename": "ModuleNotFoundError",
     "evalue": "No module named 'itsample'",
     "traceback": [
      "\u001b[0;31m---------------------------------------------------------------------------\u001b[0m",
      "\u001b[0;31mModuleNotFoundError\u001b[0m                       Traceback (most recent call last)",
      "\u001b[0;32m<ipython-input-1-710c81e906fd>\u001b[0m in \u001b[0;36m<module>\u001b[0;34m\u001b[0m\n\u001b[1;32m      1\u001b[0m \u001b[0;32mimport\u001b[0m \u001b[0mnumpy\u001b[0m \u001b[0;32mas\u001b[0m \u001b[0mnp\u001b[0m\u001b[0;34m\u001b[0m\u001b[0m\n\u001b[1;32m      2\u001b[0m \u001b[0mpdf\u001b[0m \u001b[0;34m=\u001b[0m \u001b[0;32mlambda\u001b[0m \u001b[0mx\u001b[0m\u001b[0;34m:\u001b[0m \u001b[0mnp\u001b[0m\u001b[0;34m.\u001b[0m\u001b[0mexp\u001b[0m\u001b[0;34m(\u001b[0m\u001b[0;34m-\u001b[0m\u001b[0mx\u001b[0m\u001b[0;34m**\u001b[0m\u001b[0;36m2\u001b[0m\u001b[0;34m/\u001b[0m\u001b[0;36m2\u001b[0m\u001b[0;34m)\u001b[0m \u001b[0;31m# unit Gaussian, not normalized\u001b[0m\u001b[0;34m\u001b[0m\u001b[0m\n\u001b[0;32m----> 3\u001b[0;31m \u001b[0;32mfrom\u001b[0m \u001b[0mitsample\u001b[0m \u001b[0;32mimport\u001b[0m \u001b[0msample\u001b[0m\u001b[0;34m\u001b[0m\u001b[0m\n\u001b[0m\u001b[1;32m      4\u001b[0m \u001b[0msamples\u001b[0m \u001b[0;34m=\u001b[0m \u001b[0msample\u001b[0m\u001b[0;34m(\u001b[0m\u001b[0mpdf\u001b[0m\u001b[0;34m,\u001b[0m\u001b[0;36m1000\u001b[0m\u001b[0;34m)\u001b[0m\u001b[0;34m\u001b[0m\u001b[0m\n",
      "\u001b[0;31mModuleNotFoundError\u001b[0m: No module named 'itsample'"
     ],
     "output_type": "error"
    }
   ],
   "source": [
    "import numpy as np\n",
    "pdf = lambda x: np.exp(-x**2/2) # unit Gaussian, not normalized\n",
    "from itsample import sample\n",
    "samples = sample(pdf,1000) "
   ]
  },
  {
   "cell_type": "code",
   "execution_count": null,
   "metadata": {},
   "outputs": [],
   "source": []
  }
 ],
 "metadata": {
  "kernelspec": {
   "display_name": "Python 3",
   "language": "python",
   "name": "python3"
  },
  "language_info": {
   "codemirror_mode": {
    "name": "ipython",
    "version": 3
   },
   "file_extension": ".py",
   "mimetype": "text/x-python",
   "name": "python",
   "nbconvert_exporter": "python",
   "pygments_lexer": "ipython3",
   "version": "3.7.3"
  }
 },
 "nbformat": 4,
 "nbformat_minor": 1
}
