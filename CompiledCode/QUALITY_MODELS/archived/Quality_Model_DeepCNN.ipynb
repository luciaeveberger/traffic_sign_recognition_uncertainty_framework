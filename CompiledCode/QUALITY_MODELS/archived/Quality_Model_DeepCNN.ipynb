{
 "cells": [
  {
   "cell_type": "code",
   "execution_count": 0,
   "metadata": {
    "colab": {},
    "colab_type": "code",
    "id": "NcDEyetGoTrw"
   },
   "outputs": [],
   "source": [
    "from __future__ import absolute_import, division, print_function\n",
    "import os\n",
    "from PIL import Image\n",
    "import random \n",
    "import pickle\n",
    "import json\n",
    "\n",
    "import matplotlib.pyplot as plt\n",
    "import tensorflow as tf\n",
    "import numpy as np\n",
    "from numpy import array\n",
    "import numpy as np\n",
    "import cv2\n",
    "from keras.models import load_model\n",
    "\n",
    "\n",
    "from keras.utils import np_utils\n",
    "from collections import defaultdict, namedtuple\n",
    "from sklearn.model_selection import train_test_split\n",
    "\n",
    "\n",
    "from keras.models import Sequential\n",
    "from keras import layers\n",
    "from keras.layers import Dense, Dropout, Activation, Flatten\n",
    "from keras.layers import Convolution2D, MaxPooling2D\n",
    "from keras.optimizers import Adam\n",
    "\n",
    "tf.logging.set_verbosity(tf.logging.INFO)\n",
    "from sklearn.metrics import classification_report,confusion_matrix, precision_score, recall_score\n",
    "import zipfile\n",
    "from sklearn.utils import shuffle\n",
    "\n",
    "import skimage.morphology as morp\n",
    "from skimage.filters import rank\n",
    "\n",
    "img_size = \"10000_images\""
   ]
  },
  {
   "cell_type": "code",
   "execution_count": 0,
   "metadata": {
    "colab": {},
    "colab_type": "code",
    "id": "3xwbqyDrfTOC"
   },
   "outputs": [],
   "source": [
    "effect_type = \"BACKLIGHTSUN\"\n",
    "effect_type_2 = \"MOTIONBLUR\"\n",
    "effect_type_3 = \"DARKNESS\"\n",
    "effect_type_4 = \"DIRTLENS\"\n",
    "effect_type_5 = \"RAIN\"\n",
    "\n",
    "height = 32\n",
    "width = 32\n",
    "\n",
    "all_mixed = ['DARKNESS_RAIN', 'MOTIONBLUR_DARKNESS', 'RAIN_MOTIONBLUR_DARKNESS', 'MOTIONBLUR_RAIN']\n",
    "\n",
    "file_lookup1 = {\"DARKNESS\":['DARKNESS_RAIN', 'MOTIONBLUR_DARKNESS', 'RAIN_MOTIONBLUR_DARKNESS'],\n",
    "               \"RAIN\":['DARKNESS_RAIN','RAIN_MOTIONBLUR_DARKNESS', 'MOTIONBLUR_RAIN'],\n",
    "               \"MOTIONBLUR\":['RAIN_MOTIONBLUR_DARKNESS', 'MOTIONBLUR_RAIN', 'MOTIONBLUR_DARKNESS'], \n",
    "               \"BACKLIGHTSUN\":['BACKLIGHTSUN_DIRTLENS'],\n",
    "               \"DIRTLENS\": []\n",
    "              }\n"
   ]
  },
  {
   "cell_type": "code",
   "execution_count": 238,
   "metadata": {
    "colab": {
     "base_uri": "https://localhost:8080/",
     "height": 74.0
    },
    "colab_type": "code",
    "executionInfo": {
     "elapsed": 514.0,
     "status": "ok",
     "timestamp": 1.561468317051E12,
     "user": {
      "displayName": "uncertainty framework",
      "photoUrl": "",
      "userId": "14581812229438893695"
     },
     "user_tz": -120.0
    },
    "id": "IPVnbUe3o02j",
    "outputId": "dfeeff12-7484-4dde-9663-8fa1a33a991c"
   },
   "outputs": [
    {
     "name": "stdout",
     "output_type": "stream",
     "text": [
      "Drive already mounted at /content/gdrive; to attempt to forcibly remount, call drive.mount(\"/content/gdrive\", force_remount=True).\n"
     ]
    }
   ],
   "source": [
    "from google.colab import drive\n",
    "drive.mount('/content/gdrive')"
   ]
  },
  {
   "cell_type": "code",
   "execution_count": 0,
   "metadata": {
    "colab": {},
    "colab_type": "code",
    "id": "FO2SmU0UpAIv"
   },
   "outputs": [],
   "source": [
    "root_path = 'gdrive/My Drive/data_output/'\n",
    "final_model_path = root_path + \"/TSD/h_files/\" + \"{}.h5\".format(effect_type)\n"
   ]
  },
  {
   "cell_type": "markdown",
   "metadata": {
    "colab_type": "text",
    "id": "9Fd1f4qPhX_m"
   },
   "source": [
    "# PROCESSES THE TEST DATA "
   ]
  },
  {
   "cell_type": "code",
   "execution_count": 0,
   "metadata": {
    "colab": {},
    "colab_type": "code",
    "id": "yJgFUnQvdeXD"
   },
   "outputs": [],
   "source": [
    "train_file = root_path + \"TSD/p_files/\" + \"p_files_mixed/{}_FINAL.p\".format(effect_type)\n",
    "effect2_training = root_path + \"TSD/p_files/\" + \"{}_TRAINING.p\".format(effect_type_2)\n",
    "effect3_training = root_path + \"TSD/p_files/\" + \"{}_TRAINING.p\".format(effect_type_3)\n",
    "effect_type_4_training = root_path + \"TSD/p_files/\" + \"{}_TRAINING.p\".format(effect_type_4)\n",
    "effect_type_5_training = root_path + \"TSD/p_files/\" + \"{}_TRAINING.p\".format(effect_type_5)\n"
   ]
  },
  {
   "cell_type": "code",
   "execution_count": 241,
   "metadata": {
    "colab": {
     "base_uri": "https://localhost:8080/",
     "height": 34.0
    },
    "colab_type": "code",
    "executionInfo": {
     "elapsed": 2496.0,
     "status": "ok",
     "timestamp": 1.561468322822E12,
     "user": {
      "displayName": "uncertainty framework",
      "photoUrl": "",
      "userId": "14581812229438893695"
     },
     "user_tz": -120.0
    },
    "id": "WaByunRooTr8",
    "outputId": "4e97b3a0-4984-48cc-bb1c-f6c6a61185e2"
   },
   "outputs": [
    {
     "name": "stdout",
     "output_type": "stream",
     "text": [
      "TESTING BACKLIGHTSUN\n"
     ]
    }
   ],
   "source": [
    "## training data\n",
    "with open(train_file, mode='rb') as f:\n",
    "    train = pickle.load(f)\n",
    "\n",
    "with open(effect2_training, mode='rb') as f:\n",
    "    effect_2_train = pickle.load(f)    \n",
    "\n",
    "with open(effect3_training, mode='rb') as f:\n",
    "    effect_3_train = pickle.load(f)   \n",
    "\n",
    "with open(effect_type_4_training, mode='rb') as f:\n",
    "    effect_4_train = pickle.load(f)     \n",
    "    \n",
    "with open(effect_type_5_training, mode='rb') as f:\n",
    "    effect_5_train = pickle.load(f)     \n",
    "    \n",
    "X_train, y_train = train['data'], train['quality_data_label']\n",
    "print(\"TESTING {}\".format(effect_type))\n"
   ]
  },
  {
   "cell_type": "code",
   "execution_count": 0,
   "metadata": {
    "colab": {},
    "colab_type": "code",
    "id": "ozndEJKaeLvV"
   },
   "outputs": [],
   "source": [
    "X_train_2 = effect_2_train['data']\n",
    "y_train_2 = np.zeros(len(X_train_2))\n",
    "\n",
    "X_train_3 = effect_3_train['data']\n",
    "y_train_3 = np.zeros(len(X_train_3))\n",
    "\n",
    "X_train_4 = effect_4_train['data']\n",
    "y_train_4 = np.zeros(len(X_train_4))\n",
    "\n",
    "X_train_5 = effect_5_train['data']\n",
    "y_train_5 = np.zeros(len(X_train_5))\n"
   ]
  },
  {
   "cell_type": "code",
   "execution_count": 0,
   "metadata": {
    "colab": {},
    "colab_type": "code",
    "id": "ZC3qK904gBt7"
   },
   "outputs": [],
   "source": [
    "## TRAINING DATA \n",
    "X_train = np.concatenate((X_train, X_train_2, X_train_3, X_train_4, X_train_5))\n",
    "                        \n",
    "y_train = np.concatenate((y_train, y_train_2, y_train_3, y_train_4, y_train_5))"
   ]
  },
  {
   "cell_type": "code",
   "execution_count": 244,
   "metadata": {
    "colab": {
     "base_uri": "https://localhost:8080/",
     "height": 119.0
    },
    "colab_type": "code",
    "executionInfo": {
     "elapsed": 479.0,
     "status": "ok",
     "timestamp": 1.561468326164E12,
     "user": {
      "displayName": "uncertainty framework",
      "photoUrl": "",
      "userId": "14581812229438893695"
     },
     "user_tz": -120.0
    },
    "id": "FSUevonSqxpF",
    "outputId": "ad4f3591-2b2f-4cc7-9bef-cd251d40357c"
   },
   "outputs": [
    {
     "name": "stdout",
     "output_type": "stream",
     "text": [
      "BACKLIGHTSUN\n",
      "TRAINING SET: 33123\n",
      "TRAINING LABELS: 33123\n",
      "TEST SET: 11042\n",
      "TEST LABELS: 11042\n",
      "(11042, 32, 32, 3)\n"
     ]
    }
   ],
   "source": [
    "\n",
    "X_train, X_test, y_train, y_test = train_test_split(X_train, y_train, test_size=0.25, random_state=42)\n",
    "\n",
    "print(effect_type)\n",
    "print(\"TRAINING SET: {}\".format(len(X_train)))\n",
    "print(\"TRAINING LABELS: {}\".format(len(y_train)))\n",
    "print(\"TEST SET: {}\".format(len(X_test)))\n",
    "print(\"TEST LABELS: {}\".format(len(y_test)))\n",
    "print(X_test.shape)"
   ]
  },
  {
   "cell_type": "code",
   "execution_count": 245,
   "metadata": {
    "colab": {
     "base_uri": "https://localhost:8080/",
     "height": 425.0
    },
    "colab_type": "code",
    "executionInfo": {
     "elapsed": 523.0,
     "status": "ok",
     "timestamp": 1.561468327219E12,
     "user": {
      "displayName": "uncertainty framework",
      "photoUrl": "",
      "userId": "14581812229438893695"
     },
     "user_tz": -120.0
    },
    "id": "MJtvYjp3Nq0e",
    "outputId": "1e686517-5f33-453c-d7fa-e35590a2748c"
   },
   "outputs": [
    {
     "name": "stdout",
     "output_type": "stream",
     "text": [
      "TEST DATA\n",
      "DARKNESS_RAIN\n",
      "Adding zero classes\n",
      "TRAINING DATA\n",
      "Adding zero train classes\n",
      "TEST DATA\n",
      "MOTIONBLUR_DARKNESS\n",
      "Adding zero classes\n",
      "TRAINING DATA\n",
      "Adding zero train classes\n",
      "TEST DATA\n",
      "RAIN_MOTIONBLUR_DARKNESS\n",
      "Adding zero classes\n",
      "TRAINING DATA\n",
      "Adding zero train classes\n",
      "TEST DATA\n",
      "MOTIONBLUR_RAIN\n",
      "Adding zero classes\n",
      "TRAINING DATA\n",
      "Adding zero train classes\n",
      "(36723, 32, 32, 3)\n",
      "(36723,)\n",
      "(13542, 32, 32, 3)\n",
      "(13542,)\n"
     ]
    }
   ],
   "source": [
    "test_data_mixed = []\n",
    "train_data_mixed = []\n",
    "labels_test_data_mixed = []\n",
    "labels_train_data_mixed = []\n",
    "\n",
    "\n",
    "for element in all_mixed:  \n",
    "    print(\"TEST DATA\")\n",
    "    print(element)\n",
    "    test_file = root_path + \"TSD/mixed_p_files/\" + \"{}_TEST.p\".format(element) \n",
    "    with open(test_file, mode='rb') as f:\n",
    "        test = pickle.load(f)\n",
    "    test_data_mixed.append(test['data'])\n",
    "    if element in file_lookup1.get(effect_type):\n",
    "        print(\"Adding mixed classes\")\n",
    "        labels_test_data_mixed.append(test['quality_data_label'])\n",
    "    else: \n",
    "        print(\"Adding zero classes\")\n",
    "        labels_test = np.zeros(len(test['data']))\n",
    "        labels_test_data_mixed.append(labels_test)\n",
    "    \n",
    "    print(\"TRAINING DATA\")\n",
    "    train_file = root_path + \"TSD/mixed_p_files/\" + \"{}_TRAINING.p\".format(element) \n",
    "    with open(train_file, mode='rb') as f:\n",
    "        train = pickle.load(f)\n",
    "    train_data_mixed.append(train['data'])\n",
    "    if element in file_lookup1.get(effect_type):\n",
    "        print(\"Adding mixed train classes\")\n",
    "        labels_train_data_mixed.append(train['quality_data_label'])\n",
    "    else: \n",
    "        print(\"Adding zero train classes\")\n",
    "        labels_train = np.zeros(len(train['data']))\n",
    "        labels_train_data_mixed.append(labels_train)\n",
    "    \n",
    "\n",
    "x_mixed_test = np.concatenate(test_data_mixed)\n",
    "x_mixed_train = np.concatenate(train_data_mixed)\n",
    "labels_test_data_mixed = np.concatenate(labels_test_data_mixed)\n",
    "labels_train_data_mixed = np.concatenate(labels_train_data_mixed)\n",
    "\n",
    "\n",
    "X_test = np.concatenate((X_test, x_mixed_test))\n",
    "X_train = np.concatenate((X_train, x_mixed_train))\n",
    "y_test = np.concatenate((y_test, labels_test_data_mixed))\n",
    "y_train = np.concatenate((y_train, labels_train_data_mixed))\n",
    "\n",
    "print(X_train.shape)\n",
    "print(y_train.shape)\n",
    "\n",
    "print(X_test.shape)\n",
    "print(y_test.shape)"
   ]
  },
  {
   "cell_type": "code",
   "execution_count": 246,
   "metadata": {
    "colab": {
     "base_uri": "https://localhost:8080/",
     "height": 119.0
    },
    "colab_type": "code",
    "executionInfo": {
     "elapsed": 338.0,
     "status": "ok",
     "timestamp": 1.561468329485E12,
     "user": {
      "displayName": "uncertainty framework",
      "photoUrl": "",
      "userId": "14581812229438893695"
     },
     "user_tz": -120.0
    },
    "id": "Yd6mEeoit4Tm",
    "outputId": "8a08c899-e0f9-43d9-dc2a-ea2a019328ab"
   },
   "outputs": [
    {
     "name": "stdout",
     "output_type": "stream",
     "text": [
      "NUMBER OF CLASSES 3\n",
      "TRAINING SET: 36723\n",
      "TRAINING LABELS: 36723\n",
      "TEST SET: 13542\n",
      "TEST LABELS: 13542\n",
      "unique[0. 1. 2.]\n"
     ]
    }
   ],
   "source": [
    "#print(np.unique(y_test))\n",
    "num_classes = len(np.unique(y_test))\n",
    "print(\"NUMBER OF CLASSES {}\".format(num_classes))\n",
    "print(\"TRAINING SET: {}\".format(len(X_train)))\n",
    "print(\"TRAINING LABELS: {}\".format(len(y_train)))\n",
    "print(\"TEST SET: {}\".format(len(X_test)))\n",
    "print(\"TEST LABELS: {}\".format(len(y_test)))\n",
    "print(\"unique{}\".format(np.unique(y_test)))"
   ]
  },
  {
   "cell_type": "markdown",
   "metadata": {
    "colab_type": "text",
    "id": "o0wzQiriyWH6"
   },
   "source": [
    "May want to add preprocessing here"
   ]
  },
  {
   "cell_type": "code",
   "execution_count": 247,
   "metadata": {
    "colab": {
     "base_uri": "https://localhost:8080/",
     "height": 85.0
    },
    "colab_type": "code",
    "executionInfo": {
     "elapsed": 860.0,
     "status": "ok",
     "timestamp": 1.561468337329E12,
     "user": {
      "displayName": "uncertainty framework",
      "photoUrl": "",
      "userId": "14581812229438893695"
     },
     "user_tz": -120.0
    },
    "id": "iIL5wAnpoTtk",
    "outputId": "64ed6445-5c66-4116-9552-d6c0117d053b"
   },
   "outputs": [
    {
     "name": "stdout",
     "output_type": "stream",
     "text": [
      "3\n",
      "(36723, 32, 32, 3)\n",
      "(13542, 32, 32, 3)\n",
      "(13542, 3)\n"
     ]
    }
   ],
   "source": [
    "X_train = X_train.astype('float32')\n",
    "X_test = X_test.astype('float32')\n",
    "X_train /= 255\n",
    "X_test /= 255\n",
    "\n",
    "print(num_classes)\n",
    "Y_train = np_utils.to_categorical(y_train, num_classes)\n",
    "Y_test = np_utils.to_categorical(y_test, num_classes)\n",
    " \n",
    "## need to add validation data\n",
    "    \n",
    "print(X_train.shape)\n",
    "print(X_test.shape)\n",
    "print(Y_test.shape)\n",
    "\n",
    "X_train, Y_train = shuffle(X_train, Y_train)"
   ]
  },
  {
   "cell_type": "code",
   "execution_count": 0,
   "metadata": {
    "colab": {},
    "colab_type": "code",
    "id": "ufshP-SUcI-s"
   },
   "outputs": [],
   "source": [
    "def gray_scale(image):\n",
    "    \"\"\"\n",
    "    Convert images to gray scale.\n",
    "        Parameters:\n",
    "            image: An np.array compatible with plt.imshow.\n",
    "    \"\"\"\n",
    "    return cv2.cvtColor(image, cv2.COLOR_RGB2GRAY)\n",
    "\n",
    "def local_histo_equalize(image):\n",
    "    \"\"\"\n",
    "    Apply local histogram equalization to grayscale images.\n",
    "        Parameters:\n",
    "            image: A grayscale image.\n",
    "    \"\"\"\n",
    "    kernel = morp.disk(30)\n",
    "    img_local = rank.equalize(image, selem=kernel)\n",
    "    return img_local\n",
    "\n",
    "def image_normalize(image):\n",
    "    \"\"\"\n",
    "    Normalize images to [0, 1] scale.\n",
    "        Parameters:\n",
    "            image: An np.array compatible with plt.imshow.\n",
    "    \"\"\"\n",
    "    image = np.divide(image, 255)\n",
    "    return image\n"
   ]
  },
  {
   "cell_type": "code",
   "execution_count": 249,
   "metadata": {
    "colab": {
     "base_uri": "https://localhost:8080/",
     "height": 131.0
    },
    "colab_type": "code",
    "executionInfo": {
     "elapsed": 40199.0,
     "status": "ok",
     "timestamp": 1.561468381047E12,
     "user": {
      "displayName": "uncertainty framework",
      "photoUrl": "",
      "userId": "14581812229438893695"
     },
     "user_tz": -120.0
    },
    "id": "E5KeHyHoc6eq",
    "outputId": "a04723cd-7ed1-41d7-c403-54e4a5f5fa06"
   },
   "outputs": [
    {
     "name": "stderr",
     "output_type": "stream",
     "text": [
      "/usr/local/lib/python3.6/dist-packages/skimage/util/dtype.py:135: UserWarning: Possible precision loss when converting from float32 to uint8\n",
      "  .format(dtypeobj_in, dtypeobj_out))\n"
     ]
    },
    {
     "name": "stdout",
     "output_type": "stream",
     "text": [
      "(13542, 1, 32, 32)\n"
     ]
    }
   ],
   "source": [
    "def preprocess(data):\n",
    "    \"\"\"\n",
    "    Applying the preprocessing steps to the input data.\n",
    "        Parameters:\n",
    "            data: An np.array compatible with plt.imshow.\n",
    "    \"\"\"\n",
    "    gray_images = list(map(gray_scale, data))\n",
    "    equalized_images = list(map(local_histo_equalize, gray_images))\n",
    "    n_training = data.shape\n",
    "    normalized_images = np.zeros((n_training[0], n_training[1], n_training[2]))\n",
    "    for i, img in enumerate(equalized_images):\n",
    "        normalized_images[i] = image_normalize(img)\n",
    "    #normalized_images = normalized_images[..., None]\n",
    "    return normalized_images\n",
    "\n",
    "X_train = preprocess(X_train)\n",
    "X_test = preprocess(X_test)\n",
    "X_train = X_train.reshape(X_train.shape[0], 1, width, height)\n",
    "X_test = X_test.reshape(X_test.shape[0], 1, width, height)\n",
    "\n",
    "print(X_test.shape)\n",
    "\n",
    "X_test, X_valid, Y_test, Y_valid = train_test_split(X_test, Y_test, test_size=0.10, random_state=42, shuffle=True)\n"
   ]
  },
  {
   "cell_type": "code",
   "execution_count": 0,
   "metadata": {
    "colab": {},
    "colab_type": "code",
    "id": "d117clkUQw-g"
   },
   "outputs": [],
   "source": [
    "# 7. Define model architecture\n",
    "def create_deep_CNN():\n",
    "\n",
    "    \n",
    "    # @toDO: batchnormalization\n",
    "\n",
    "    model = Sequential()\n",
    "\n",
    "    #model.add(Convolution2D(32, 3, 3, activation='relu', input_shape=(1,28,28)), data_format='channels_first'))\n",
    "\n",
    "    model.add(Convolution2D(32, (3, 3), activation='relu', input_shape=(1,width,height), data_format='channels_first'))\n",
    "    model.add(Convolution2D(32, 3, 3, activation='relu'))\n",
    "    model.add(Dropout(0.5))\n",
    "    #keras.layers.Dropout(0.5),\n",
    "    #model.add(layers.Dense(64, use_bias=False))\n",
    "    #model.add(BatchNormalization())\n",
    "    model.add(Activation(\"relu\"))\n",
    "    \n",
    "    model.add(MaxPooling2D(pool_size=(2,2)))\n",
    "    model.add(Dropout(0.25))\n",
    "\n",
    "    model.add(Flatten())\n",
    "    model.add(Dense(128, activation='relu'))\n",
    "    \n",
    "    model.add(Dense(128, activation='relu'))\n",
    "    model.add(Dense(128, activation='relu'))\n",
    "    model.add(Dense(128, activation='relu'))\n",
    "    model.add(Dense(128, activation='relu'))\n",
    "    model.add(Dropout(0.5))\n",
    "    model.add(Dense(num_classes, activation='softmax'))\n",
    "\n",
    "    ## adds learning rate\n",
    "    optimizer = Adam(lr=1e-3)\n",
    "\n",
    "    # 8. Compile model @todo: add more metrics to this \n",
    "    model.compile(loss='categorical_crossentropy',\n",
    "                  optimizer=optimizer,\n",
    "                  metrics=['accuracy', 'mse'])\n",
    "    return model\n",
    "\n",
    "## reshaping for the larger CN\n"
   ]
  },
  {
   "cell_type": "code",
   "execution_count": 251,
   "metadata": {
    "colab": {
     "base_uri": "https://localhost:8080/",
     "height": 1000.0
    },
    "colab_type": "code",
    "executionInfo": {
     "elapsed": 304809.0,
     "status": "ok",
     "timestamp": 1.561468964771E12,
     "user": {
      "displayName": "uncertainty framework",
      "photoUrl": "",
      "userId": "14581812229438893695"
     },
     "user_tz": -120.0
    },
    "id": "7OrRBJCbtrDD",
    "outputId": "e757dbde-d5f4-4414-a56d-e35cfa35a79f"
   },
   "outputs": [
    {
     "name": "stderr",
     "output_type": "stream",
     "text": [
      "/usr/local/lib/python3.6/dist-packages/ipykernel_launcher.py:11: UserWarning: Update your `Conv2D` call to the Keras 2 API: `Conv2D(32, (3, 3), activation=\"relu\")`\n",
      "  # This is added back by InteractiveShellApp.init_path()\n"
     ]
    },
    {
     "name": "stdout",
     "output_type": "stream",
     "text": [
      "Train on 36723 samples, validate on 12187 samples\n",
      "Epoch 1/50\n",
      "36723/36723 [==============================] - 9s 252us/step - loss: 0.2688 - acc: 0.9019 - mean_squared_error: 0.0481 - val_loss: 0.2048 - val_acc: 0.9210 - val_mean_squared_error: 0.0376\n",
      "Epoch 2/50\n",
      "36723/36723 [==============================] - 6s 164us/step - loss: 0.1881 - acc: 0.9316 - mean_squared_error: 0.0339 - val_loss: 0.1667 - val_acc: 0.9409 - val_mean_squared_error: 0.0301\n",
      "Epoch 3/50\n",
      "36723/36723 [==============================] - 6s 169us/step - loss: 0.1594 - acc: 0.9420 - mean_squared_error: 0.0291 - val_loss: 0.1573 - val_acc: 0.9385 - val_mean_squared_error: 0.0296\n",
      "Epoch 4/50\n",
      "36723/36723 [==============================] - 6s 168us/step - loss: 0.1473 - acc: 0.9455 - mean_squared_error: 0.0270 - val_loss: 0.1463 - val_acc: 0.9457 - val_mean_squared_error: 0.0266\n",
      "Epoch 5/50\n",
      "36723/36723 [==============================] - 6s 164us/step - loss: 0.1337 - acc: 0.9499 - mean_squared_error: 0.0247 - val_loss: 0.1444 - val_acc: 0.9459 - val_mean_squared_error: 0.0264\n",
      "Epoch 6/50\n",
      "36723/36723 [==============================] - 6s 166us/step - loss: 0.1233 - acc: 0.9534 - mean_squared_error: 0.0229 - val_loss: 0.1461 - val_acc: 0.9435 - val_mean_squared_error: 0.0271\n",
      "Epoch 7/50\n",
      "36723/36723 [==============================] - 6s 164us/step - loss: 0.1134 - acc: 0.9566 - mean_squared_error: 0.0212 - val_loss: 0.1267 - val_acc: 0.9549 - val_mean_squared_error: 0.0229\n",
      "Epoch 8/50\n",
      "36723/36723 [==============================] - 6s 163us/step - loss: 0.1050 - acc: 0.9597 - mean_squared_error: 0.0198 - val_loss: 0.1183 - val_acc: 0.9577 - val_mean_squared_error: 0.0212\n",
      "Epoch 9/50\n",
      "36723/36723 [==============================] - 6s 163us/step - loss: 0.0937 - acc: 0.9630 - mean_squared_error: 0.0178 - val_loss: 0.1331 - val_acc: 0.9521 - val_mean_squared_error: 0.0237\n",
      "Epoch 10/50\n",
      "36723/36723 [==============================] - 6s 165us/step - loss: 0.0872 - acc: 0.9669 - mean_squared_error: 0.0164 - val_loss: 0.1286 - val_acc: 0.9531 - val_mean_squared_error: 0.0230\n",
      "Epoch 11/50\n",
      "36723/36723 [==============================] - 6s 165us/step - loss: 0.0817 - acc: 0.9697 - mean_squared_error: 0.0151 - val_loss: 0.1193 - val_acc: 0.9595 - val_mean_squared_error: 0.0205\n",
      "Epoch 12/50\n",
      "36723/36723 [==============================] - 6s 164us/step - loss: 0.0733 - acc: 0.9719 - mean_squared_error: 0.0139 - val_loss: 0.1273 - val_acc: 0.9552 - val_mean_squared_error: 0.0225\n",
      "Epoch 13/50\n",
      "36723/36723 [==============================] - 6s 163us/step - loss: 0.0691 - acc: 0.9747 - mean_squared_error: 0.0128 - val_loss: 0.1221 - val_acc: 0.9600 - val_mean_squared_error: 0.0204\n",
      "Epoch 14/50\n",
      "36723/36723 [==============================] - 6s 164us/step - loss: 0.0662 - acc: 0.9741 - mean_squared_error: 0.0127 - val_loss: 0.1226 - val_acc: 0.9606 - val_mean_squared_error: 0.0204\n",
      "Epoch 15/50\n",
      "36723/36723 [==============================] - 6s 164us/step - loss: 0.0626 - acc: 0.9767 - mean_squared_error: 0.0116 - val_loss: 0.1352 - val_acc: 0.9579 - val_mean_squared_error: 0.0211\n",
      "Epoch 16/50\n",
      "36723/36723 [==============================] - 6s 164us/step - loss: 0.0582 - acc: 0.9790 - mean_squared_error: 0.0108 - val_loss: 0.1502 - val_acc: 0.9513 - val_mean_squared_error: 0.0251\n",
      "Epoch 17/50\n",
      "36723/36723 [==============================] - 6s 164us/step - loss: 0.0571 - acc: 0.9787 - mean_squared_error: 0.0106 - val_loss: 0.1435 - val_acc: 0.9561 - val_mean_squared_error: 0.0226\n",
      "Epoch 18/50\n",
      "36723/36723 [==============================] - 6s 163us/step - loss: 0.0517 - acc: 0.9806 - mean_squared_error: 0.0097 - val_loss: 0.1631 - val_acc: 0.9541 - val_mean_squared_error: 0.0240\n",
      "Epoch 19/50\n",
      "36723/36723 [==============================] - 6s 162us/step - loss: 0.0495 - acc: 0.9827 - mean_squared_error: 0.0090 - val_loss: 0.1289 - val_acc: 0.9584 - val_mean_squared_error: 0.0211\n",
      "Epoch 20/50\n",
      "36723/36723 [==============================] - 6s 162us/step - loss: 0.0443 - acc: 0.9830 - mean_squared_error: 0.0083 - val_loss: 0.1246 - val_acc: 0.9602 - val_mean_squared_error: 0.0202\n",
      "Epoch 21/50\n",
      "36723/36723 [==============================] - 6s 163us/step - loss: 0.0448 - acc: 0.9838 - mean_squared_error: 0.0084 - val_loss: 0.1522 - val_acc: 0.9595 - val_mean_squared_error: 0.0217\n",
      "Epoch 22/50\n",
      "36723/36723 [==============================] - 6s 161us/step - loss: 0.0462 - acc: 0.9830 - mean_squared_error: 0.0085 - val_loss: 0.1410 - val_acc: 0.9600 - val_mean_squared_error: 0.0211\n",
      "Epoch 23/50\n",
      "36723/36723 [==============================] - 6s 161us/step - loss: 0.0371 - acc: 0.9865 - mean_squared_error: 0.0068 - val_loss: 0.1700 - val_acc: 0.9580 - val_mean_squared_error: 0.0226\n",
      "Epoch 24/50\n",
      "36723/36723 [==============================] - 6s 162us/step - loss: 0.0356 - acc: 0.9871 - mean_squared_error: 0.0066 - val_loss: 0.1544 - val_acc: 0.9603 - val_mean_squared_error: 0.0213\n",
      "Epoch 25/50\n",
      "36723/36723 [==============================] - 6s 162us/step - loss: 0.0382 - acc: 0.9867 - mean_squared_error: 0.0069 - val_loss: 0.1598 - val_acc: 0.9590 - val_mean_squared_error: 0.0220\n",
      "Epoch 26/50\n",
      "36723/36723 [==============================] - 6s 162us/step - loss: 0.0375 - acc: 0.9862 - mean_squared_error: 0.0069 - val_loss: 0.1349 - val_acc: 0.9589 - val_mean_squared_error: 0.0210\n",
      "Epoch 27/50\n",
      "36723/36723 [==============================] - 6s 163us/step - loss: 0.0348 - acc: 0.9883 - mean_squared_error: 0.0061 - val_loss: 0.1355 - val_acc: 0.9586 - val_mean_squared_error: 0.0213\n",
      "Epoch 28/50\n",
      "36723/36723 [==============================] - 6s 162us/step - loss: 0.0312 - acc: 0.9892 - mean_squared_error: 0.0055 - val_loss: 0.1736 - val_acc: 0.9595 - val_mean_squared_error: 0.0215\n",
      "Epoch 29/50\n",
      "36723/36723 [==============================] - 6s 162us/step - loss: 0.0295 - acc: 0.9896 - mean_squared_error: 0.0055 - val_loss: 0.1693 - val_acc: 0.9593 - val_mean_squared_error: 0.0221\n",
      "Epoch 30/50\n",
      "36723/36723 [==============================] - 6s 163us/step - loss: 0.0313 - acc: 0.9884 - mean_squared_error: 0.0058 - val_loss: 0.1681 - val_acc: 0.9618 - val_mean_squared_error: 0.0203\n",
      "Epoch 31/50\n",
      "36723/36723 [==============================] - 6s 163us/step - loss: 0.0308 - acc: 0.9895 - mean_squared_error: 0.0053 - val_loss: 0.1817 - val_acc: 0.9610 - val_mean_squared_error: 0.0217\n",
      "Epoch 32/50\n",
      "36723/36723 [==============================] - 6s 163us/step - loss: 0.0282 - acc: 0.9909 - mean_squared_error: 0.0049 - val_loss: 0.1824 - val_acc: 0.9600 - val_mean_squared_error: 0.0221\n",
      "Epoch 33/50\n",
      "36723/36723 [==============================] - 6s 161us/step - loss: 0.0307 - acc: 0.9900 - mean_squared_error: 0.0054 - val_loss: 0.1939 - val_acc: 0.9581 - val_mean_squared_error: 0.0228\n",
      "Epoch 34/50\n",
      "36723/36723 [==============================] - 6s 163us/step - loss: 0.0291 - acc: 0.9902 - mean_squared_error: 0.0051 - val_loss: 0.1768 - val_acc: 0.9591 - val_mean_squared_error: 0.0218\n",
      "Epoch 35/50\n",
      "36723/36723 [==============================] - 6s 163us/step - loss: 0.0245 - acc: 0.9912 - mean_squared_error: 0.0044 - val_loss: 0.1606 - val_acc: 0.9599 - val_mean_squared_error: 0.0211\n",
      "Epoch 36/50\n",
      "36723/36723 [==============================] - 6s 162us/step - loss: 0.0269 - acc: 0.9906 - mean_squared_error: 0.0048 - val_loss: 0.1665 - val_acc: 0.9602 - val_mean_squared_error: 0.0216\n",
      "Epoch 37/50\n",
      "36723/36723 [==============================] - 6s 163us/step - loss: 0.0242 - acc: 0.9919 - mean_squared_error: 0.0043 - val_loss: 0.1512 - val_acc: 0.9604 - val_mean_squared_error: 0.0207\n",
      "Epoch 38/50\n",
      "36723/36723 [==============================] - 6s 163us/step - loss: 0.0229 - acc: 0.9920 - mean_squared_error: 0.0041 - val_loss: 0.1861 - val_acc: 0.9595 - val_mean_squared_error: 0.0217\n",
      "Epoch 39/50\n",
      "36723/36723 [==============================] - 6s 163us/step - loss: 0.0219 - acc: 0.9929 - mean_squared_error: 0.0038 - val_loss: 0.1828 - val_acc: 0.9605 - val_mean_squared_error: 0.0214\n",
      "Epoch 40/50\n",
      "36723/36723 [==============================] - 6s 164us/step - loss: 0.0236 - acc: 0.9922 - mean_squared_error: 0.0041 - val_loss: 0.1937 - val_acc: 0.9602 - val_mean_squared_error: 0.0224\n",
      "Epoch 41/50\n",
      "36723/36723 [==============================] - 6s 163us/step - loss: 0.0210 - acc: 0.9929 - mean_squared_error: 0.0037 - val_loss: 0.1638 - val_acc: 0.9587 - val_mean_squared_error: 0.0222\n",
      "Epoch 42/50\n",
      "36723/36723 [==============================] - 6s 164us/step - loss: 0.0214 - acc: 0.9923 - mean_squared_error: 0.0039 - val_loss: 0.1648 - val_acc: 0.9604 - val_mean_squared_error: 0.0209\n",
      "Epoch 43/50\n",
      "36723/36723 [==============================] - 6s 164us/step - loss: 0.0214 - acc: 0.9929 - mean_squared_error: 0.0037 - val_loss: 0.2122 - val_acc: 0.9587 - val_mean_squared_error: 0.0225\n",
      "Epoch 44/50\n",
      "36723/36723 [==============================] - 6s 165us/step - loss: 0.0218 - acc: 0.9924 - mean_squared_error: 0.0039 - val_loss: 0.1851 - val_acc: 0.9606 - val_mean_squared_error: 0.0217\n",
      "Epoch 45/50\n",
      "36723/36723 [==============================] - 6s 163us/step - loss: 0.0222 - acc: 0.9924 - mean_squared_error: 0.0040 - val_loss: 0.2102 - val_acc: 0.9596 - val_mean_squared_error: 0.0221\n",
      "Epoch 46/50\n",
      "36723/36723 [==============================] - 6s 164us/step - loss: 0.0210 - acc: 0.9938 - mean_squared_error: 0.0033 - val_loss: 0.1617 - val_acc: 0.9629 - val_mean_squared_error: 0.0203\n",
      "Epoch 47/50\n",
      "36723/36723 [==============================] - 6s 165us/step - loss: 0.0187 - acc: 0.9935 - mean_squared_error: 0.0033 - val_loss: 0.1867 - val_acc: 0.9610 - val_mean_squared_error: 0.0215\n",
      "Epoch 48/50\n",
      "36723/36723 [==============================] - 6s 163us/step - loss: 0.0169 - acc: 0.9942 - mean_squared_error: 0.0030 - val_loss: 0.2009 - val_acc: 0.9604 - val_mean_squared_error: 0.0216\n",
      "Epoch 49/50\n",
      "36723/36723 [==============================] - 6s 163us/step - loss: 0.0170 - acc: 0.9941 - mean_squared_error: 0.0030 - val_loss: 0.1797 - val_acc: 0.9591 - val_mean_squared_error: 0.0222\n",
      "Epoch 50/50\n",
      "36723/36723 [==============================] - 6s 163us/step - loss: 0.0222 - acc: 0.9931 - mean_squared_error: 0.0036 - val_loss: 0.1770 - val_acc: 0.9601 - val_mean_squared_error: 0.0216\n"
     ]
    }
   ],
   "source": [
    "deep_model = create_deep_CNN()\n",
    "\n",
    "history_deep_cnn = deep_model.fit(X_train, \n",
    "                       Y_train, \n",
    "                       batch_size=64, \n",
    "                       epochs=50, \n",
    "                       verbose=1, \n",
    "                       shuffle=True,  \n",
    "                       validation_data = (X_test, Y_test))"
   ]
  },
  {
   "cell_type": "code",
   "execution_count": 252,
   "metadata": {
    "colab": {
     "base_uri": "https://localhost:8080/",
     "height": 34.0
    },
    "colab_type": "code",
    "executionInfo": {
     "elapsed": 4978.0,
     "status": "ok",
     "timestamp": 1.561468984509E12,
     "user": {
      "displayName": "uncertainty framework",
      "photoUrl": "",
      "userId": "14581812229438893695"
     },
     "user_tz": -120.0
    },
    "id": "LfBrhNIwRdGK",
    "outputId": "2b982bdc-8cec-4c82-b6ca-e581b0e6dbbc"
   },
   "outputs": [
    {
     "name": "stdout",
     "output_type": "stream",
     "text": [
      "Saved model to disk\n"
     ]
    }
   ],
   "source": [
    "deep_model.save(root_path + \"/TSD/h_files/deepCNN\" + \"{}.h5\".format(effect_type))\n",
    "print(\"Saved model to disk\")"
   ]
  },
  {
   "cell_type": "code",
   "execution_count": 253,
   "metadata": {
    "colab": {
     "base_uri": "https://localhost:8080/",
     "height": 350.0
    },
    "colab_type": "code",
    "executionInfo": {
     "elapsed": 1475.0,
     "status": "ok",
     "timestamp": 1.561468987254E12,
     "user": {
      "displayName": "uncertainty framework",
      "photoUrl": "",
      "userId": "14581812229438893695"
     },
     "user_tz": -120.0
    },
    "id": "89TaEBGzPtcq",
    "outputId": "16a0b553-135e-4d89-ecb2-83265c00c496"
   },
   "outputs": [
    {
     "data": {
      "image/png": "[encoded data removed]",
      "text/plain": [
       "<Figure size 1080x360 with 2 Axes>"
      ]
     },
     "metadata": {
      "tags": []
     },
     "output_type": "display_data"
    }
   ],
   "source": [
    "import matplotlib.pyplot as plt\n",
    "\n",
    "def create_graphs(history):\n",
    "    plt.figure(figsize=(15, 5))\n",
    "    plt.subplot(121)\n",
    "    plt.plot(history.history['acc'])\n",
    "    plt.plot(history.history['val_acc'])\n",
    "    plt.title('{} Model accuracy'.format(effect_type))\n",
    "    plt.ylabel('Accuracy')\n",
    "    plt.xlabel('Epoch')\n",
    "    plt.legend(['Train', 'Test'], loc='upper left')\n",
    "        #pyplot.show()\n",
    "\n",
    "    plt.subplot(122)\n",
    "        # Plot training & validation loss values\n",
    "    plt.plot(history.history['loss'])\n",
    "    plt.plot(history.history['val_loss'])\n",
    "    plt.title('{} Model loss'.format(effect_type))\n",
    "    plt.ylabel('Loss')\n",
    "    plt.xlabel('Epoch')\n",
    "    plt.legend(['Train', 'Test'], loc='upper left')\n",
    "    plt.savefig('gdrive/My Drive/FIGURES/{}_deep_cnn.png'.format(effect_type))\n",
    "    plt.show()\n",
    "\n",
    "create_graphs(history_deep_cnn)"
   ]
  },
  {
   "cell_type": "code",
   "execution_count": 254,
   "metadata": {
    "colab": {
     "base_uri": "https://localhost:8080/",
     "height": 51.0
    },
    "colab_type": "code",
    "executionInfo": {
     "elapsed": 508.0,
     "status": "ok",
     "timestamp": 1.561468996143E12,
     "user": {
      "displayName": "uncertainty framework",
      "photoUrl": "",
      "userId": "14581812229438893695"
     },
     "user_tz": -120.0
    },
    "id": "XiOQsocc0Ckz",
    "outputId": "02abb04f-04d2-4d00-d70f-e67dc07c0e41"
   },
   "outputs": [
    {
     "name": "stdout",
     "output_type": "stream",
     "text": [
      "1355/1355 [==============================] - 0s 109us/step\n",
      "[0.1262846299282947, 0.9682656826568266, 0.016994477981944447]\n"
     ]
    }
   ],
   "source": [
    "## need to fix\n",
    "score = deep_model.evaluate(X_valid, Y_valid)"
   ]
  },
  {
   "cell_type": "code",
   "execution_count": 255,
   "metadata": {
    "colab": {
     "base_uri": "https://localhost:8080/",
     "height": 289.0
    },
    "colab_type": "code",
    "executionInfo": {
     "elapsed": 2612.0,
     "status": "ok",
     "timestamp": 1.561469001638E12,
     "user": {
      "displayName": "uncertainty framework",
      "photoUrl": "",
      "userId": "14581812229438893695"
     },
     "user_tz": -120.0
    },
    "id": "5P1_y8QA4teQ",
    "outputId": "c6aca5fd-4965-43a1-a459-36d8e1af889d"
   },
   "outputs": [
    {
     "name": "stdout",
     "output_type": "stream",
     "text": [
      "12187\n",
      "[[10197    23     4]\n",
      " [  207   705   147]\n",
      " [   15    90   799]]\n",
      "              precision    recall  f1-score   support\n",
      "\n",
      "           0       0.98      1.00      0.99     10224\n",
      "           1       0.86      0.67      0.75      1059\n",
      "           2       0.84      0.88      0.86       904\n",
      "\n",
      "    accuracy                           0.96     12187\n",
      "   macro avg       0.89      0.85      0.87     12187\n",
      "weighted avg       0.96      0.96      0.96     12187\n",
      "\n",
      "PRECISION 0.8938678650356274\n",
      "RECALL 0.8489770306850337\n"
     ]
    }
   ],
   "source": [
    "def generate_classification_results(model, X, Y):\n",
    "    total = len(X)\n",
    "    print(total)\n",
    "    y_pred = model.predict(X)\n",
    "    matrix = confusion_matrix(Y.argmax(axis=1), y_pred.argmax(axis=1))\n",
    "    print(matrix)\n",
    "    matrix1 = classification_report(Y.argmax(axis=1), y_pred.argmax(axis=1))\n",
    "    print(matrix1)\n",
    "    print(\"PRECISION {}\" .format(precision_score(Y.argmax(axis=1), y_pred.argmax(axis=1), average='macro')))\n",
    "    print(\"RECALL {}\".format(recall_score(Y.argmax(axis=1), y_pred.argmax(axis=1), average='macro')))\n",
    "    \n",
    "generate_classification_results(deep_model, X_test, Y_test)\n"
   ]
  },
  {
   "cell_type": "markdown",
   "metadata": {
    "colab": {},
    "colab_type": "code",
    "id": "KoYTbV0sm0EH"
   },
   "source": [
    "# RESNET Approach \n",
    "used as a protoype but not selected as it was too heavy\n"
   ]
  },
  {
   "cell_type": "code",
   "execution_count": 160,
   "metadata": {
    "colab": {
     "base_uri": "https://localhost:8080/",
     "height": 1000.0
    },
    "colab_type": "code",
    "executionInfo": {
     "elapsed": 203329.0,
     "status": "error",
     "timestamp": 1.56146635448E12,
     "user": {
      "displayName": "uncertainty framework",
      "photoUrl": "",
      "userId": "14581812229438893695"
     },
     "user_tz": -120.0
    },
    "id": "lQuiFxb6XAR8",
    "outputId": "440e48b5-a30e-46b7-f91d-e3925919bbee"
   },
   "outputs": [
    {
     "name": "stderr",
     "output_type": "stream",
     "text": [
      "W0625 12:36:05.575625 139631077238656 deprecation_wrapper.py:119] From /usr/local/lib/python3.6/dist-packages/keras/backend/tensorflow_backend.py:1834: The name tf.nn.fused_batch_norm is deprecated. Please use tf.compat.v1.nn.fused_batch_norm instead.\n",
      "\n",
      "/usr/local/lib/python3.6/dist-packages/ipykernel_launcher.py:152: UserWarning: The `nb_epoch` argument in `fit` has been renamed `epochs`.\n"
     ]
    },
    {
     "name": "stdout",
     "output_type": "stream",
     "text": [
      "Train on 27573 samples, validate on 8272 samples\n",
      "Epoch 1/30\n",
      "27573/27573 [==============================] - 43s 2ms/step - loss: 2.2236 - acc: 0.8598 - val_loss: 2.2447 - val_acc: 0.8607\n",
      "Epoch 2/30\n",
      "27573/27573 [==============================] - 31s 1ms/step - loss: 2.2243 - acc: 0.8620 - val_loss: 2.2447 - val_acc: 0.8607\n",
      "Epoch 3/30\n",
      "27573/27573 [==============================] - 31s 1ms/step - loss: 2.2243 - acc: 0.8620 - val_loss: 2.2447 - val_acc: 0.8607\n",
      "Epoch 4/30\n",
      "27573/27573 [==============================] - 31s 1ms/step - loss: 2.2243 - acc: 0.8620 - val_loss: 2.2447 - val_acc: 0.8607\n",
      "Epoch 5/30\n",
      "27573/27573 [==============================] - 31s 1ms/step - loss: 2.2243 - acc: 0.8620 - val_loss: 2.2447 - val_acc: 0.8607\n",
      "Epoch 6/30\n",
      "11776/27573 [===========>..................] - ETA: 16s - loss: 2.1708 - acc: 0.8653"
     ]
    },
    {
     "ename": "KeyboardInterrupt",
     "evalue": "ignored",
     "traceback": [
      "\u001b[0;31m---------------------------------------------------------------------------\u001b[0m",
      "\u001b[0;31mKeyboardInterrupt\u001b[0m                         Traceback (most recent call last)",
      "\u001b[0;32m<ipython-input-160-f8ed9ec7c8af>\u001b[0m in \u001b[0;36m<module>\u001b[0;34m()\u001b[0m\n\u001b[1;32m    150\u001b[0m                        \u001b[0mverbose\u001b[0m\u001b[0;34m=\u001b[0m\u001b[0;36m1\u001b[0m\u001b[0;34m,\u001b[0m\u001b[0;34m\u001b[0m\u001b[0;34m\u001b[0m\u001b[0m\n\u001b[1;32m    151\u001b[0m                        \u001b[0mshuffle\u001b[0m\u001b[0;34m=\u001b[0m\u001b[0;32mTrue\u001b[0m\u001b[0;34m,\u001b[0m\u001b[0;34m\u001b[0m\u001b[0;34m\u001b[0m\u001b[0m\n\u001b[0;32m--> 152\u001b[0;31m                        validation_data = (X_test, Y_test))\n\u001b[0m\u001b[1;32m    153\u001b[0m     \u001b[0mmodel_json\u001b[0m \u001b[0;34m=\u001b[0m \u001b[0mmodel\u001b[0m\u001b[0;34m.\u001b[0m\u001b[0mto_json\u001b[0m\u001b[0;34m(\u001b[0m\u001b[0;34m)\u001b[0m\u001b[0;34m\u001b[0m\u001b[0;34m\u001b[0m\u001b[0m\n\u001b[1;32m    154\u001b[0m     \u001b[0;32mwith\u001b[0m \u001b[0mopen\u001b[0m\u001b[0;34m(\u001b[0m\u001b[0mroot_path\u001b[0m \u001b[0;34m+\u001b[0m \u001b[0;34m\"/TSD/h_files/{}.json\"\u001b[0m\u001b[0;34m.\u001b[0m\u001b[0mformat\u001b[0m\u001b[0;34m(\u001b[0m\u001b[0meffect_type\u001b[0m\u001b[0;34m)\u001b[0m\u001b[0;34m,\u001b[0m \u001b[0;34m\"w\"\u001b[0m\u001b[0;34m)\u001b[0m \u001b[0;32mas\u001b[0m \u001b[0mjson_file\u001b[0m\u001b[0;34m:\u001b[0m\u001b[0;34m\u001b[0m\u001b[0;34m\u001b[0m\u001b[0m\n",
      "\u001b[0;32m/usr/local/lib/python3.6/dist-packages/keras/engine/training.py\u001b[0m in \u001b[0;36mfit\u001b[0;34m(self, x, y, batch_size, epochs, verbose, callbacks, validation_split, validation_data, shuffle, class_weight, sample_weight, initial_epoch, steps_per_epoch, validation_steps, **kwargs)\u001b[0m\n\u001b[1;32m   1037\u001b[0m                                         \u001b[0minitial_epoch\u001b[0m\u001b[0;34m=\u001b[0m\u001b[0minitial_epoch\u001b[0m\u001b[0;34m,\u001b[0m\u001b[0;34m\u001b[0m\u001b[0;34m\u001b[0m\u001b[0m\n\u001b[1;32m   1038\u001b[0m                                         \u001b[0msteps_per_epoch\u001b[0m\u001b[0;34m=\u001b[0m\u001b[0msteps_per_epoch\u001b[0m\u001b[0;34m,\u001b[0m\u001b[0;34m\u001b[0m\u001b[0;34m\u001b[0m\u001b[0m\n\u001b[0;32m-> 1039\u001b[0;31m                                         validation_steps=validation_steps)\n\u001b[0m\u001b[1;32m   1040\u001b[0m \u001b[0;34m\u001b[0m\u001b[0m\n\u001b[1;32m   1041\u001b[0m     def evaluate(self, x=None, y=None,\n",
      "\u001b[0;32m/usr/local/lib/python3.6/dist-packages/keras/engine/training_arrays.py\u001b[0m in \u001b[0;36mfit_loop\u001b[0;34m(model, f, ins, out_labels, batch_size, epochs, verbose, callbacks, val_f, val_ins, shuffle, callback_metrics, initial_epoch, steps_per_epoch, validation_steps)\u001b[0m\n\u001b[1;32m    197\u001b[0m                     \u001b[0mins_batch\u001b[0m\u001b[0;34m[\u001b[0m\u001b[0mi\u001b[0m\u001b[0;34m]\u001b[0m \u001b[0;34m=\u001b[0m \u001b[0mins_batch\u001b[0m\u001b[0;34m[\u001b[0m\u001b[0mi\u001b[0m\u001b[0;34m]\u001b[0m\u001b[0;34m.\u001b[0m\u001b[0mtoarray\u001b[0m\u001b[0;34m(\u001b[0m\u001b[0;34m)\u001b[0m\u001b[0;34m\u001b[0m\u001b[0;34m\u001b[0m\u001b[0m\n\u001b[1;32m    198\u001b[0m \u001b[0;34m\u001b[0m\u001b[0m\n\u001b[0;32m--> 199\u001b[0;31m                 \u001b[0mouts\u001b[0m \u001b[0;34m=\u001b[0m \u001b[0mf\u001b[0m\u001b[0;34m(\u001b[0m\u001b[0mins_batch\u001b[0m\u001b[0;34m)\u001b[0m\u001b[0;34m\u001b[0m\u001b[0;34m\u001b[0m\u001b[0m\n\u001b[0m\u001b[1;32m    200\u001b[0m                 \u001b[0mouts\u001b[0m \u001b[0;34m=\u001b[0m \u001b[0mto_list\u001b[0m\u001b[0;34m(\u001b[0m\u001b[0mouts\u001b[0m\u001b[0;34m)\u001b[0m\u001b[0;34m\u001b[0m\u001b[0;34m\u001b[0m\u001b[0m\n\u001b[1;32m    201\u001b[0m                 \u001b[0;32mfor\u001b[0m \u001b[0ml\u001b[0m\u001b[0;34m,\u001b[0m \u001b[0mo\u001b[0m \u001b[0;32min\u001b[0m \u001b[0mzip\u001b[0m\u001b[0;34m(\u001b[0m\u001b[0mout_labels\u001b[0m\u001b[0;34m,\u001b[0m \u001b[0mouts\u001b[0m\u001b[0;34m)\u001b[0m\u001b[0;34m:\u001b[0m\u001b[0;34m\u001b[0m\u001b[0;34m\u001b[0m\u001b[0m\n",
      "\u001b[0;32m/usr/local/lib/python3.6/dist-packages/keras/backend/tensorflow_backend.py\u001b[0m in \u001b[0;36m__call__\u001b[0;34m(self, inputs)\u001b[0m\n\u001b[1;32m   2713\u001b[0m                 \u001b[0;32mreturn\u001b[0m \u001b[0mself\u001b[0m\u001b[0;34m.\u001b[0m\u001b[0m_legacy_call\u001b[0m\u001b[0;34m(\u001b[0m\u001b[0minputs\u001b[0m\u001b[0;34m)\u001b[0m\u001b[0;34m\u001b[0m\u001b[0;34m\u001b[0m\u001b[0m\n\u001b[1;32m   2714\u001b[0m \u001b[0;34m\u001b[0m\u001b[0m\n\u001b[0;32m-> 2715\u001b[0;31m             \u001b[0;32mreturn\u001b[0m \u001b[0mself\u001b[0m\u001b[0;34m.\u001b[0m\u001b[0m_call\u001b[0m\u001b[0;34m(\u001b[0m\u001b[0minputs\u001b[0m\u001b[0;34m)\u001b[0m\u001b[0;34m\u001b[0m\u001b[0;34m\u001b[0m\u001b[0m\n\u001b[0m\u001b[1;32m   2716\u001b[0m         \u001b[0;32melse\u001b[0m\u001b[0;34m:\u001b[0m\u001b[0;34m\u001b[0m\u001b[0;34m\u001b[0m\u001b[0m\n\u001b[1;32m   2717\u001b[0m             \u001b[0;32mif\u001b[0m \u001b[0mpy_any\u001b[0m\u001b[0;34m(\u001b[0m\u001b[0mis_tensor\u001b[0m\u001b[0;34m(\u001b[0m\u001b[0mx\u001b[0m\u001b[0;34m)\u001b[0m \u001b[0;32mfor\u001b[0m \u001b[0mx\u001b[0m \u001b[0;32min\u001b[0m \u001b[0minputs\u001b[0m\u001b[0;34m)\u001b[0m\u001b[0;34m:\u001b[0m\u001b[0;34m\u001b[0m\u001b[0;34m\u001b[0m\u001b[0m\n",
      "\u001b[0;32m/usr/local/lib/python3.6/dist-packages/keras/backend/tensorflow_backend.py\u001b[0m in \u001b[0;36m_call\u001b[0;34m(self, inputs)\u001b[0m\n\u001b[1;32m   2673\u001b[0m             \u001b[0mfetched\u001b[0m \u001b[0;34m=\u001b[0m \u001b[0mself\u001b[0m\u001b[0;34m.\u001b[0m\u001b[0m_callable_fn\u001b[0m\u001b[0;34m(\u001b[0m\u001b[0;34m*\u001b[0m\u001b[0marray_vals\u001b[0m\u001b[0;34m,\u001b[0m \u001b[0mrun_metadata\u001b[0m\u001b[0;34m=\u001b[0m\u001b[0mself\u001b[0m\u001b[0;34m.\u001b[0m\u001b[0mrun_metadata\u001b[0m\u001b[0;34m)\u001b[0m\u001b[0;34m\u001b[0m\u001b[0;34m\u001b[0m\u001b[0m\n\u001b[1;32m   2674\u001b[0m         \u001b[0;32melse\u001b[0m\u001b[0;34m:\u001b[0m\u001b[0;34m\u001b[0m\u001b[0;34m\u001b[0m\u001b[0m\n\u001b[0;32m-> 2675\u001b[0;31m             \u001b[0mfetched\u001b[0m \u001b[0;34m=\u001b[0m \u001b[0mself\u001b[0m\u001b[0;34m.\u001b[0m\u001b[0m_callable_fn\u001b[0m\u001b[0;34m(\u001b[0m\u001b[0;34m*\u001b[0m\u001b[0marray_vals\u001b[0m\u001b[0;34m)\u001b[0m\u001b[0;34m\u001b[0m\u001b[0;34m\u001b[0m\u001b[0m\n\u001b[0m\u001b[1;32m   2676\u001b[0m         \u001b[0;32mreturn\u001b[0m \u001b[0mfetched\u001b[0m\u001b[0;34m[\u001b[0m\u001b[0;34m:\u001b[0m\u001b[0mlen\u001b[0m\u001b[0;34m(\u001b[0m\u001b[0mself\u001b[0m\u001b[0;34m.\u001b[0m\u001b[0moutputs\u001b[0m\u001b[0;34m)\u001b[0m\u001b[0;34m]\u001b[0m\u001b[0;34m\u001b[0m\u001b[0;34m\u001b[0m\u001b[0m\n\u001b[1;32m   2677\u001b[0m \u001b[0;34m\u001b[0m\u001b[0m\n",
      "\u001b[0;32m/usr/local/lib/python3.6/dist-packages/tensorflow/python/client/session.py\u001b[0m in \u001b[0;36m__call__\u001b[0;34m(self, *args, **kwargs)\u001b[0m\n\u001b[1;32m   1456\u001b[0m         ret = tf_session.TF_SessionRunCallable(self._session._session,\n\u001b[1;32m   1457\u001b[0m                                                \u001b[0mself\u001b[0m\u001b[0;34m.\u001b[0m\u001b[0m_handle\u001b[0m\u001b[0;34m,\u001b[0m \u001b[0margs\u001b[0m\u001b[0;34m,\u001b[0m\u001b[0;34m\u001b[0m\u001b[0;34m\u001b[0m\u001b[0m\n\u001b[0;32m-> 1458\u001b[0;31m                                                run_metadata_ptr)\n\u001b[0m\u001b[1;32m   1459\u001b[0m         \u001b[0;32mif\u001b[0m \u001b[0mrun_metadata\u001b[0m\u001b[0;34m:\u001b[0m\u001b[0;34m\u001b[0m\u001b[0;34m\u001b[0m\u001b[0m\n\u001b[1;32m   1460\u001b[0m           \u001b[0mproto_data\u001b[0m \u001b[0;34m=\u001b[0m \u001b[0mtf_session\u001b[0m\u001b[0;34m.\u001b[0m\u001b[0mTF_GetBuffer\u001b[0m\u001b[0;34m(\u001b[0m\u001b[0mrun_metadata_ptr\u001b[0m\u001b[0;34m)\u001b[0m\u001b[0;34m\u001b[0m\u001b[0;34m\u001b[0m\u001b[0m\n",
      "\u001b[0;31mKeyboardInterrupt\u001b[0m: "
     ],
     "output_type": "error"
    }
   ],
   "source": [
    "from keras import layers\n",
    "from keras.models import Model\n",
    "\n",
    "def _after_conv(in_tensor):\n",
    "    norm = layers.BatchNormalization()(in_tensor)\n",
    "    return layers.Activation('relu')(norm)\n",
    "\n",
    "def conv1(in_tensor, filters):\n",
    "    conv = layers.Conv2D(filters, kernel_size=1, strides=1)(in_tensor)\n",
    "    return _after_conv(conv)\n",
    "\n",
    "def conv1_downsample(in_tensor, filters):\n",
    "    conv = layers.Conv2D(filters, kernel_size=1, strides=2)(in_tensor)\n",
    "    return _after_conv(conv)\n",
    "\n",
    "def conv3(in_tensor, filters):\n",
    "    conv = layers.Conv2D(filters, kernel_size=3, strides=1, padding='same')(in_tensor)\n",
    "    return _after_conv(conv)\n",
    "\n",
    "def conv3_downsample(in_tensor, filters):\n",
    "    conv = layers.Conv2D(filters, kernel_size=3, strides=2, padding='same')(in_tensor)\n",
    "    return _after_conv(conv)\n",
    "\n",
    "def resnet_block_wo_bottlneck(in_tensor, filters, downsample=False):\n",
    "    if downsample:\n",
    "        conv1_rb = conv3_downsample(in_tensor, filters)\n",
    "    else:\n",
    "        conv1_rb = conv3(in_tensor, filters)\n",
    "    conv2_rb = conv3(conv1_rb, filters)\n",
    "\n",
    "    if downsample:\n",
    "        in_tensor = conv1_downsample(in_tensor, filters)\n",
    "    result = layers.Add()([conv2_rb, in_tensor])\n",
    "\n",
    "    return layers.Activation('relu')(result)\n",
    "\n",
    "def resnet_block_w_bottlneck(in_tensor,\n",
    "                             filters,\n",
    "                             downsample=False,\n",
    "                             change_channels=False):\n",
    "    if downsample:\n",
    "        conv1_rb = conv1_downsample(in_tensor, int(filters/4))\n",
    "    else:\n",
    "        conv1_rb = conv1(in_tensor, int(filters/4))\n",
    "    conv2_rb = conv3(conv1_rb, int(filters/4))\n",
    "    conv3_rb = conv1(conv2_rb, filters)\n",
    "\n",
    "    if downsample:\n",
    "        in_tensor = conv1_downsample(in_tensor, filters)\n",
    "    elif change_channels:\n",
    "        in_tensor = conv1(in_tensor, filters)\n",
    "    result = layers.Add()([conv3_rb, in_tensor])\n",
    "\n",
    "    return result\n",
    "\n",
    "def _pre_res_blocks(in_tensor):\n",
    "    conv = layers.Conv2D(64, 7, strides=2, padding='same')(in_tensor)\n",
    "    conv = _after_conv(conv)\n",
    "    pool = layers.MaxPool2D(3, 2, padding='same')(conv)\n",
    "    return pool\n",
    "\n",
    "def _post_res_blocks(in_tensor, n_classes):\n",
    "    pool = layers.GlobalAvgPool2D()(in_tensor)\n",
    "    preds = layers.Dense(n_classes, activation='softmax')(pool)\n",
    "    return preds\n",
    "\n",
    "def convx_wo_bottleneck(in_tensor, filters, n_times, downsample_1=False):\n",
    "    res = in_tensor\n",
    "    for i in range(n_times):\n",
    "        if i == 0:\n",
    "            res = resnet_block_wo_bottlneck(res, filters, downsample_1)\n",
    "        else:\n",
    "            res = resnet_block_wo_bottlneck(res, filters)\n",
    "    return res\n",
    "\n",
    "def convx_w_bottleneck(in_tensor, filters, n_times, downsample_1=False):\n",
    "    res = in_tensor\n",
    "    for i in range(n_times):\n",
    "        if i == 0:\n",
    "            res = resnet_block_w_bottlneck(res, filters, downsample_1, not downsample_1)\n",
    "        else:\n",
    "            res = resnet_block_w_bottlneck(res, filters)\n",
    "    return res\n",
    "\n",
    "def _resnet(in_shape=(32,32,1),\n",
    "            n_classes=1,\n",
    "            opt='sgd',\n",
    "            convx=[64, 128, 256, 512],\n",
    "            n_convx=[2, 2, 2, 2],\n",
    "            convx_fn=convx_wo_bottleneck):\n",
    "    in_layer = layers.Input(in_shape)\n",
    "\n",
    "    downsampled = _pre_res_blocks(in_layer)\n",
    "\n",
    "    conv2x = convx_fn(downsampled, convx[0], n_convx[0])\n",
    "    conv3x = convx_fn(conv2x, convx[1], n_convx[1], True)\n",
    "    conv4x = convx_fn(conv3x, convx[2], n_convx[2], True)\n",
    "    conv5x = convx_fn(conv4x, convx[3], n_convx[3], True)\n",
    "\n",
    "    preds = _post_res_blocks(conv5x, n_classes)\n",
    "\n",
    "    model = Model(in_layer, preds)\n",
    "    model.compile(loss=\"categorical_crossentropy\", optimizer=opt,\n",
    "\t              metrics=[\"accuracy\"])\n",
    "    return model\n",
    "\n",
    "def resnet18(in_shape=(32,32,3), n_classes=num_classes, opt='sgd'):\n",
    "    return _resnet(in_shape, n_classes, opt)\n",
    "\n",
    "def resnet34(in_shape=(32,32,3), n_classes=num_classes, opt='sgd'):\n",
    "    return _resnet(in_shape,\n",
    "                  n_classes,\n",
    "                  opt,\n",
    "                  n_convx=[3, 4, 6, 3])\n",
    "\n",
    "def resnet50(in_shape=(32,32,1), n_classes=num_classes, opt='sgd'):\n",
    "    return _resnet(in_shape,\n",
    "                  n_classes,\n",
    "                  opt,\n",
    "                  [256, 512, 1024, 2048],\n",
    "                  [3, 4, 6, 3],\n",
    "                  convx_w_bottleneck)\n",
    "\n",
    "def resnet101(in_shape=(224,224,3), n_classes=1000, opt='sgd'):\n",
    "    return _resnet(in_shape,\n",
    "                  n_classes,\n",
    "                  opt,\n",
    "                  [256, 512, 1024, 2048],\n",
    "                  [3, 4, 23, 3],\n",
    "                  convx_w_bottleneck)\n",
    "\n",
    "def resnet152(in_shape=(224,224,3), n_classes=1000, opt='sgd'):\n",
    "    return _resnet(in_shape,\n",
    "                  n_classes,\n",
    "                  opt,\n",
    "                  [256, 512, 1024, 2048],\n",
    "                  [3, 8, 36, 3],\n",
    "                  convx_w_bottleneck)\n",
    "\n",
    "if __name__ == '__main__':\n",
    "    model = resnet50()\n",
    "    X_test, Y_test = shuffle(X_test, Y_test)\n",
    "    X_train = X_train.reshape(X_train.shape[0], width, height, 1)\n",
    "    X_test = X_test.reshape(X_test.shape[0], width, height, 1)\n",
    "    \n",
    "    history = model.fit(X_train, \n",
    "                       Y_train, \n",
    "                       batch_size=64, \n",
    "                       nb_epoch=30, \n",
    "                       verbose=1, \n",
    "                       shuffle=True,\n",
    "                       validation_data = (X_test, Y_test))\n",
    "    model_json = model.to_json()\n",
    "    with open(root_path + \"/TSD/h_files/{}.json\".format(effect_type), \"w\") as json_file:\n",
    "        json.dump(model_json, json_file)\n",
    "    model.save_weights(froot_path + \"/TSD/h_files/RESNET{}.h5\".format(effect_type))\n",
    "    print(\"Saved model to disk\")\n",
    "\n",
    "                    \n",
    "    "
   ]
  }
 ],
 "metadata": {
  "accelerator": "GPU",
  "colab": {
   "collapsed_sections": [],
   "name": "DeepCNN.ipynb",
   "provenance": [],
   "toc_visible": true,
   "version": "0.3.2"
  },
  "kernelspec": {
   "display_name": "Python 3",
   "language": "python",
   "name": "python3"
  },
  "language_info": {
   "codemirror_mode": {
    "name": "ipython",
    "version": 3
   },
   "file_extension": ".py",
   "mimetype": "text/x-python",
   "name": "python",
   "nbconvert_exporter": "python",
   "pygments_lexer": "ipython3",
   "version": "3.7.3"
  }
 },
 "nbformat": 4,
 "nbformat_minor": 1
}
