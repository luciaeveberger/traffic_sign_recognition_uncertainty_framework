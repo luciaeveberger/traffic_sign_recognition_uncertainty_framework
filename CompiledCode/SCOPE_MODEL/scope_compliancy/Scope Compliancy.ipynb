{
 "cells": [
  {
   "cell_type": "markdown",
   "metadata": {},
   "source": [
    "## Known Unknowns:\n",
    "known boundaries of generalizability of the data-driven mode\n",
    "\n",
    "\n",
    "## Unknowns Unknowns:\n",
    "novelty detection techniques and explicitly\n",
    "addressing concept drift with active or passive means"
   ]
  },
  {
   "cell_type": "code",
   "execution_count": 12,
   "metadata": {},
   "outputs": [],
   "source": [
    "import pandas as pd\n",
    "import os\n",
    "\n",
    "\n",
    "directory_root = os.path.dirname(os.getcwd())\n",
    "\n",
    "# relative directory\n",
    "file_path = \"/test_dataset/data/generated_data.csv\"\n"
   ]
  },
  {
   "cell_type": "code",
   "execution_count": 14,
   "metadata": {},
   "outputs": [
    {
     "name": "stdout",
     "output_type": "stream",
     "text": [
      "   Unnamed: 0   Filename  Width  Height  Roi.X1  Roi.Y1  Roi.X2  Roi.Y2  \\\n",
      "0           0  00243.ppm     39      39       6       5      34      34   \n",
      "1           1  00252.ppm     51      52       6       6      46      47   \n",
      "2           2  00403.ppm     43      44       5       5      38      39   \n",
      "3           3  00579.ppm     37      37       6       6      32      32   \n",
      "4           4  00675.ppm     45      47       5       5      40      42   \n",
      "\n",
      "   ClassId   Latitude  Longitude    Datetime      Speed  \\\n",
      "0        0  54.480866   7.578818  1543329550  82.913075   \n",
      "1        0  51.493265  10.800412  1532410001   9.677593   \n",
      "2        0  46.945466  13.607162  1550659327  25.093418   \n",
      "3        0  46.866749  11.330575  1547868759  69.967253   \n",
      "4        0  48.647362  12.823384  1541485821  53.391824   \n",
      "\n",
      "                                Coordinates  Elevation  Temperature  \n",
      "0    (54.48086620605899, 7.578818052368505)        0.0    17.486141  \n",
      "1   (51.49326514672695, 10.800412416212342)      174.0    23.833012  \n",
      "2   (46.94546628976531, 13.607161934739734)     1149.5     9.844090  \n",
      "3   (46.86674861109444, 11.330575373668069)     1740.5    -3.884125  \n",
      "4  (48.647361922152896, 12.823383786489417)      377.5   -11.383144  \n"
     ]
    }
   ],
   "source": [
    "## Statistical reference \n",
    "data_set = pd.read_csv(directory_root + file_path)\n",
    "\n",
    "print(data_set.head())\n",
    "\n",
    "\n"
   ]
  },
  {
   "cell_type": "code",
   "execution_count": null,
   "metadata": {},
   "outputs": [],
   "source": []
  }
 ],
 "metadata": {
  "kernelspec": {
   "display_name": "Python 3",
   "language": "python",
   "name": "python3"
  },
  "language_info": {
   "codemirror_mode": {
    "name": "ipython",
    "version": 3
   },
   "file_extension": ".py",
   "mimetype": "text/x-python",
   "name": "python",
   "nbconvert_exporter": "python",
   "pygments_lexer": "ipython3",
   "version": "3.6.5"
  }
 },
 "nbformat": 4,
 "nbformat_minor": 2
}
