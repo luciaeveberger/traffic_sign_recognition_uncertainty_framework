{
 "cells": [
  {
   "cell_type": "code",
   "execution_count": 7,
   "metadata": {},
   "outputs": [],
   "source": [
    "import numpy as np\n",
    "import matplotlib.pyplot as plt\n",
    "\n",
    "from DataSet import generate_dataset"
   ]
  },
  {
   "cell_type": "code",
   "execution_count": 8,
   "metadata": {},
   "outputs": [
    {
     "name": "stdout",
     "output_type": "stream",
     "text": [
      "              Width        Height        Roi.X1        Roi.Y1        Roi.X2  \\\n",
      "count  12630.000000  12630.000000  12630.000000  12630.000000  12630.000000   \n",
      "mean      50.507759     50.364450      5.998021      5.982423     44.864450   \n",
      "std       25.088483     23.698908      1.543954      1.427424     23.776102   \n",
      "min       25.000000     25.000000      1.000000      5.000000     20.000000   \n",
      "25%       34.000000     35.000000      5.000000      5.000000     29.000000   \n",
      "50%       43.000000     43.000000      6.000000      6.000000     38.000000   \n",
      "75%       58.000000     57.000000      6.000000      6.000000     53.000000   \n",
      "max      266.000000    232.000000     23.000000     19.000000    244.000000   \n",
      "\n",
      "             Roi.Y2       ClassId      Latitude     Longitude      Altitude  \\\n",
      "count  12630.000000  12630.000000  12630.000000  12630.000000  12630.000000   \n",
      "mean      44.758116     15.551069     40.101190     25.000831   1230.734276   \n",
      "std       22.494697     11.947123      5.818267     14.512978   1006.354176   \n",
      "min       20.000000      0.000000     30.002161      0.002540   -499.958160   \n",
      "25%       29.000000      5.000000     34.989895     12.199200    359.059984   \n",
      "50%       38.000000     12.000000     40.116934     24.946796   1237.440349   \n",
      "75%       52.000000     25.000000     45.199972     37.534703   2103.261912   \n",
      "max      212.000000     42.000000     49.995673     49.995063   2961.748476   \n",
      "\n",
      "           Datetime         Speed  \n",
      "count  1.263000e+04  12630.000000  \n",
      "mean   1.506766e+09     65.458841  \n",
      "std    2.715996e+07     37.422953  \n",
      "min    1.459149e+09      0.005788  \n",
      "25%    1.483474e+09     33.365421  \n",
      "50%    1.506861e+09     65.899749  \n",
      "75%    1.530278e+09     97.856273  \n",
      "max    1.553719e+09    129.988591  \n"
     ]
    }
   ],
   "source": [
    "df = generate_dataset(\"base_test_data.csv\")\n",
    "print(df.describe())"
   ]
  },
  {
   "cell_type": "code",
   "execution_count": 11,
   "metadata": {},
   "outputs": [
    {
     "data": {
      "image/png": "[encoded data removed]",
      "text/plain": [
       "<Figure size 432x288 with 1 Axes>"
      ]
     },
     "metadata": {
      "needs_background": "light"
     },
     "output_type": "display_data"
    }
   ],
   "source": [
    "# CoverageSufficencyModel\n",
    "## can add histograms\n",
    "## Range \n",
    "\n",
    "\n",
    "\n"
   ]
  },
  {
   "cell_type": "code",
   "execution_count": 13,
   "metadata": {},
   "outputs": [],
   "source": [
    "## map density of cases\n",
    "## Draw geographical density \n",
    "## https://www.julienphalip.com/blog/drawing-geographical-density-maps-with-matplotlib/\n",
    "\n"
   ]
  },
  {
   "cell_type": "code",
   "execution_count": null,
   "metadata": {},
   "outputs": [],
   "source": [
    "## Representativeness of Sample\n",
    "\n",
    "## Randomly sample created data -> Cross Validation\n",
    "## Distribution => Statistical Temperature Profile\n"
   ]
  }
 ],
 "metadata": {
  "kernelspec": {
   "display_name": "Python 3",
   "language": "python",
   "name": "python3"
  },
  "language_info": {
   "codemirror_mode": {
    "name": "ipython",
    "version": 3
   },
   "file_extension": ".py",
   "mimetype": "text/x-python",
   "name": "python",
   "nbconvert_exporter": "python",
   "pygments_lexer": "ipython3",
   "version": "3.6.5"
  }
 },
 "nbformat": 4,
 "nbformat_minor": 2
}
