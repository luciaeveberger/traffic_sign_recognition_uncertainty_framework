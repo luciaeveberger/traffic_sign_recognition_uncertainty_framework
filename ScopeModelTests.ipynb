{
 "cells": [
  {
   "cell_type": "markdown",
   "metadata": {},
   "source": [
    "# ScopeModelValidator Example Tests"
   ]
  },
  {
   "cell_type": "code",
   "execution_count": 5,
   "metadata": {},
   "outputs": [],
   "source": [
    "import pandas as pd\n",
    "import ScopeModelValidator\n",
    "data_file_path = \"test_dataset/data/generated_data1.csv\""
   ]
  },
  {
   "cell_type": "markdown",
   "metadata": {},
   "source": [
    "## Data source:\n",
    "generated_data1 contains 12000 points \n",
    "\n",
    "\n",
    "## Two tests: \n",
    "on geographical location"
   ]
  },
  {
   "cell_type": "code",
   "execution_count": 6,
   "metadata": {},
   "outputs": [
    {
     "name": "stdout",
     "output_type": "stream",
     "text": [
      "Deutschland\n",
      "calculated scope score: 1.0\n",
      "Nederland\n",
      "calculated scope score: 0.888888888888889\n"
     ]
    }
   ],
   "source": [
    "df = pd.read_csv(data_file_path)\n",
    "\n",
    "# to make the coordinates easier to use\n",
    "df['Coordinates_Joined'] = list(zip(df.Longitude, df.Latitude))\n",
    "df['Scope_Score'] = 0\n",
    "\n",
    "# inside of scope\n",
    "ind = 8 \n",
    "\n",
    "s = ScopeModelValidator.ScopeModelValidator(timestamp=df.Datetime[ind],\n",
    "                        temperature=df.Temperature[ind],\n",
    "                        coordinates=df.Coordinates_Joined[ind],\n",
    "                        sign_type=df.ClassId[ind],\n",
    "                        road_type=df.RoadTypes[ind],\n",
    "                        velocity=df.Speed[ind],\n",
    "                        rain_sensor=0\n",
    "                        )\n",
    "\n",
    "scope_score = s.calculate_scope()\n",
    "print(\"calculated scope score: {}\".format(scope_score))\n",
    "df.at['Scope_Score', ind] = scope_score\n",
    "\n",
    "\n",
    "# outside of scope\n",
    "ind = 3\n",
    "s2 = ScopeModelValidator.ScopeModelValidator(timestamp=df.Datetime[ind],\n",
    "                         temperature=df.Temperature[ind],\n",
    "                         coordinates=df.Coordinates_Joined[ind],\n",
    "                         sign_type=df.ClassId[ind],\n",
    "                         road_type=df.RoadTypes[ind],\n",
    "                         velocity=df.Speed[ind],\n",
    "                         rain_sensor=0\n",
    "                        )\n",
    "\n",
    "scope_score2 = s2.calculate_scope()\n",
    "print(\"calculated scope score: {}\".format(scope_score2))\n",
    "df.at['Scope_Score', ind] = scope_score2\n"
   ]
  },
  {
   "cell_type": "markdown",
   "metadata": {},
   "source": [
    "# Need to sleep between 500 calls for API's\n",
    "-opendata\n",
    "\n",
    "-reverseGeocode"
   ]
  },
  {
   "cell_type": "code",
   "execution_count": null,
   "metadata": {},
   "outputs": [],
   "source": []
  }
 ],
 "metadata": {
  "kernelspec": {
   "display_name": "Python 3",
   "language": "python",
   "name": "python3"
  },
  "language_info": {
   "codemirror_mode": {
    "name": "ipython",
    "version": 3
   },
   "file_extension": ".py",
   "mimetype": "text/x-python",
   "name": "python",
   "nbconvert_exporter": "python",
   "pygments_lexer": "ipython3",
   "version": "3.6.5"
  }
 },
 "nbformat": 4,
 "nbformat_minor": 2
}
